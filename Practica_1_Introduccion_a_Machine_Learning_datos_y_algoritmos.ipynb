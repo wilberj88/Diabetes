{
  "nbformat": 4,
  "nbformat_minor": 0,
  "metadata": {
    "anaconda-cloud": {},
    "colab": {
      "name": "Practica 1. Introduccion a Machine Learning datos y algoritmos.ipynb",
      "provenance": [],
      "toc_visible": true,
      "include_colab_link": true
    },
    "kernelspec": {
      "display_name": "Python 3",
      "language": "python",
      "name": "python3"
    },
    "latex_envs": {
      "LaTeX_envs_menu_present": false,
      "autoclose": false,
      "autocomplete": true,
      "bibliofile": "biblio.bib",
      "cite_by": "apalike",
      "current_citInitial": 1,
      "eqLabelWithNumbers": true,
      "eqNumInitial": 1,
      "hotkeys": {
        "equation": "Ctrl-E",
        "itemize": "Ctrl-I"
      },
      "labels_anchors": false,
      "latex_user_defs": true,
      "report_style_numbering": false,
      "user_envs_cfg": false
    },
    "toc": {
      "base_numbering": 1,
      "nav_menu": {},
      "number_sections": true,
      "sideBar": true,
      "skip_h1_title": false,
      "title_cell": "Table of Contents",
      "title_sidebar": "Contents",
      "toc_cell": true,
      "toc_position": {},
      "toc_section_display": true,
      "toc_window_display": false
    }
  },
  "cells": [
    {
      "cell_type": "markdown",
      "metadata": {
        "id": "view-in-github",
        "colab_type": "text"
      },
      "source": [
        "<a href=\"https://colab.research.google.com/github/wilberj88/Diabetes/blob/master/Practica_1_Introduccion_a_Machine_Learning_datos_y_algoritmos.ipynb\" target=\"_parent\"><img src=\"https://colab.research.google.com/assets/colab-badge.svg\" alt=\"Open In Colab\"/></a>"
      ]
    },
    {
      "cell_type": "markdown",
      "metadata": {
        "colab_type": "text",
        "id": "txy_4L67SidC",
        "toc": true
      },
      "source": [
        "<h1>Table of Contents<span class=\"tocSkip\"></span></h1>\n",
        "<div class=\"toc\"><ul class=\"toc-item\"><li><span><a href=\"#Práctica-No.-1.-Introducción-a-Machine-Learning-y-Redes-Neuronales\" data-toc-modified-id=\"Práctica-No.-1.-Introducción-a-Machine-Learning-y-Redes-Neuronales-1\"><span class=\"toc-item-num\">1&nbsp;&nbsp;</span>Práctica No. 1. Introducción a Machine Learning y Redes Neuronales</a></span><ul class=\"toc-item\"><li><span><a href=\"#Finalidad-de-la-práctica\" data-toc-modified-id=\"Finalidad-de-la-práctica-1.1\"><span class=\"toc-item-num\">1.1&nbsp;&nbsp;</span>Finalidad de la práctica</a></span></li><li><span><a href=\"#Sobre-Scikit-Learn\" data-toc-modified-id=\"Sobre-Scikit-Learn-1.2\"><span class=\"toc-item-num\">1.2&nbsp;&nbsp;</span>Sobre Scikit-Learn</a></span></li><li><span><a href=\"#¿Qué-es-el-Machine-Learning?\" data-toc-modified-id=\"¿Qué-es-el-Machine-Learning?-1.3\"><span class=\"toc-item-num\">1.3&nbsp;&nbsp;</span>¿Qué es el Machine Learning?</a></span><ul class=\"toc-item\"><li><span><a href=\"#Primera-pregunta-(3-puntos)\" data-toc-modified-id=\"Primera-pregunta-(3-puntos)-1.3.1\"><span class=\"toc-item-num\">1.3.1&nbsp;&nbsp;</span>Primera pregunta (3 puntos)</a></span></li><li><span><a href=\"#a)-Habiendo-definido-la-función-que-representa-la-regresión-lineal,-representar-una-regresión-lineal-a-50-puntos-con-una-pendiente-de-1.5-y-un-punto-de-corte-con-ordenadas-de-2.0.-(1-punto)\" data-toc-modified-id=\"a)-Habiendo-definido-la-función-que-representa-la-regresión-lineal,-representar-una-regresión-lineal-a-50-puntos-con-una-pendiente-de-1.5-y-un-punto-de-corte-con-ordenadas-de-2.0.-(1-punto)-1.3.2\"><span class=\"toc-item-num\">1.3.2&nbsp;&nbsp;</span>a) Habiendo definido la función que representa la <strong>regresión lineal</strong>, representar una regresión lineal a <code>50 puntos</code> con una pendiente de <code>1.5</code> y un punto de corte con ordenadas de <code>2.0</code>. (1 punto)</a></span></li><li><span><a href=\"#b)-Modifique-el-ruido-gausiano-incluido-a-los-datos-sobre-los-que-se-realiza-la-regresión-lineal-en-la-función-plot_linear_regression-(2-puntos)\" data-toc-modified-id=\"b)-Modifique-el-ruido-gausiano-incluido-a-los-datos-sobre-los-que-se-realiza-la-regresión-lineal-en-la-función-plot_linear_regression-(2-puntos)-1.3.3\"><span class=\"toc-item-num\">1.3.3&nbsp;&nbsp;</span>b) Modifique el ruido gausiano incluido a los datos sobre los que se realiza la regresión lineal en la función <code>plot_linear_regression</code> (2 puntos)</a></span></li><li><span><a href=\"#¿Qué-observa-en-los-puntos-aleatoriamente-generados-si-la-desviación-típica-es-$\\sigma-=-5.0$-manteniendo-la-desviación-de-la-media-en-$\\mu-=-0$-?-¿Qué-efectos-tiene-en-la-recta-ajustada-por-el-estimador-LinearRegressor?\" data-toc-modified-id=\"¿Qué-observa-en-los-puntos-aleatoriamente-generados-si-la-desviación-típica-es-$\\sigma-=-5.0$-manteniendo-la-desviación-de-la-media-en-$\\mu-=-0$-?-¿Qué-efectos-tiene-en-la-recta-ajustada-por-el-estimador-LinearRegressor?-1.3.4\"><span class=\"toc-item-num\">1.3.4&nbsp;&nbsp;</span>¿Qué observa en los puntos aleatoriamente generados si la desviación típica es $\\sigma = 5.0$ manteniendo la desviación de la media en $\\mu = 0$ ? ¿Qué efectos tiene en la recta ajustada por el estimador <code>LinearRegressor</code>?</a></span></li><li><span><a href=\"#¿Qué-efecto-en-los-puntos-aleatoriamente-generados-si-la-desviación-típica-es--$\\sigma=0$--cambiando-la-desviación-de-la-media-a-$\\mu=5$?-¿Qué-efectos-tiene-en-la-recta-ajustada-por-el-estimador-LinearRegressor?\" data-toc-modified-id=\"¿Qué-efecto-en-los-puntos-aleatoriamente-generados-si-la-desviación-típica-es--$\\sigma=0$--cambiando-la-desviación-de-la-media-a-$\\mu=5$?-¿Qué-efectos-tiene-en-la-recta-ajustada-por-el-estimador-LinearRegressor?-1.3.5\"><span class=\"toc-item-num\">1.3.5&nbsp;&nbsp;</span>¿Qué efecto en los puntos aleatoriamente generados si la desviación típica es  $\\sigma=0$  cambiando la desviación de la media a $\\mu=5$? ¿Qué efectos tiene en la recta ajustada por el estimador <code>LinearRegressor</code>?</a></span></li></ul></li><li><span><a href=\"#Representación-de-datos-con-Scikit-Learn\" data-toc-modified-id=\"Representación-de-datos-con-Scikit-Learn-1.4\"><span class=\"toc-item-num\">1.4&nbsp;&nbsp;</span>Representación de datos con Scikit-Learn</a></span></li><li><span><a href=\"#Un-ejemplo-sencillo:-el-Iris-flower-data-set\" data-toc-modified-id=\"Un-ejemplo-sencillo:-el-Iris-flower-data-set-1.5\"><span class=\"toc-item-num\">1.5&nbsp;&nbsp;</span>Un ejemplo sencillo: el Iris flower data set</a></span><ul class=\"toc-item\"><li><span><a href=\"#Cargando-el-Iris-Dataset-con-Scikit-Learn\" data-toc-modified-id=\"Cargando-el-Iris-Dataset-con-Scikit-Learn-1.5.1\"><span class=\"toc-item-num\">1.5.1&nbsp;&nbsp;</span>Cargando el Iris Dataset con Scikit-Learn</a></span></li><li><span><a href=\"#Segunda-pregunta-(4-puntos):\" data-toc-modified-id=\"Segunda-pregunta-(4-puntos):-1.5.2\"><span class=\"toc-item-num\">1.5.2&nbsp;&nbsp;</span>Segunda pregunta (4 puntos):</a></span></li><li><span><a href=\"#a)-Si-queremos-diseñar-un-algoritmo-de-clasificación-que-reconozca-las-especies-de-lirios,-¿qué-tipos-de-datos-de-nuestro-dataset-vamos-a-necesitar?-(1-punto)\" data-toc-modified-id=\"a)-Si-queremos-diseñar-un-algoritmo-de-clasificación-que-reconozca-las-especies-de-lirios,-¿qué-tipos-de-datos-de-nuestro-dataset-vamos-a-necesitar?-(1-punto)-1.5.3\"><span class=\"toc-item-num\">1.5.3&nbsp;&nbsp;</span>a) Si queremos diseñar un algoritmo de clasificación que reconozca las especies de lirios, ¿qué tipos de datos de nuestro dataset vamos a necesitar? (1 punto)</a></span></li><li><span><a href=\"#b)-¿Dentro-de-qué-paradigma-de-aprendizaje-caería-la-clasificación-por-mapeo-características-etiquetas-del-dataset-Iris-Setosa?-Justifique-brevemente-su-respuesta-(1-punto)\" data-toc-modified-id=\"b)-¿Dentro-de-qué-paradigma-de-aprendizaje-caería-la-clasificación-por-mapeo-características-etiquetas-del-dataset-Iris-Setosa?-Justifique-brevemente-su-respuesta-(1-punto)-1.5.4\"><span class=\"toc-item-num\">1.5.4&nbsp;&nbsp;</span>b) ¿Dentro de qué paradigma de aprendizaje caería la clasificación por mapeo características-etiquetas del dataset Iris Setosa? Justifique brevemente su respuesta (1 punto)</a></span></li><li><span><a href=\"#c)-¿Se-podría-hacer-uso-de-aprendizaje-no-supervisado-para-clasificar-este-dataset?-De-ser-así,-¿qué-familia-de-algoritmos-se-podría-usar-para-ese-fin?-(1-punto)\" data-toc-modified-id=\"c)-¿Se-podría-hacer-uso-de-aprendizaje-no-supervisado-para-clasificar-este-dataset?-De-ser-así,-¿qué-familia-de-algoritmos-se-podría-usar-para-ese-fin?-(1-punto)-1.5.5\"><span class=\"toc-item-num\">1.5.5&nbsp;&nbsp;</span>c) ¿Se podría hacer uso de aprendizaje no-supervisado para clasificar este dataset? De ser así, ¿qué familia de algoritmos se podría usar para ese fin? (1 punto)</a></span></li><li><span><a href=\"#d)-¿A-qué-se-refiere-n_samples-con-el-caso-del-dataset-de-los-lirios?-(0,5-puntos)\" data-toc-modified-id=\"d)-¿A-qué-se-refiere-n_samples-con-el-caso-del-dataset-de-los-lirios?-(0,5-puntos)-1.5.6\"><span class=\"toc-item-num\">1.5.6&nbsp;&nbsp;</span>d) ¿A qué se refiere <code>n_samples</code> con el caso del dataset de los lirios? (0,5 puntos)</a></span></li><li><span><a href=\"#e)-¿Con-qué-se-equipara-n_features-en-el-caso-del-dataset-de-los-lirios?-(0,5-puntos)\" data-toc-modified-id=\"e)-¿Con-qué-se-equipara-n_features-en-el-caso-del-dataset-de-los-lirios?-(0,5-puntos)-1.5.7\"><span class=\"toc-item-num\">1.5.7&nbsp;&nbsp;</span>e) ¿Con qué se equipara <code>n_features</code> en el caso del dataset de los lirios? (0,5 puntos)</a></span></li><li><span><a href=\"#Tercera-pregunta-(3-puntos)\" data-toc-modified-id=\"Tercera-pregunta-(3-puntos)-1.5.8\"><span class=\"toc-item-num\">1.5.8&nbsp;&nbsp;</span>Tercera pregunta (3 puntos)</a></span></li><li><span><a href=\"#¿Cuál-parece-el-mejor-gráfico-para-diferenciar-las-muestras-del-Iris-flower-data-set?--Cambie-x_index-e-y_index-en-la-última-pieza-de-código-para-encontrar-una-combinación-de-parámetros-que-maximice-la-separación-entre-clases.-Incluya-abajo-el-código-necesario-para-representar-las-diferentes-clases-lo-más-separadas-posible-y-ejecute-para-representar-la-gráfica.\" data-toc-modified-id=\"¿Cuál-parece-el-mejor-gráfico-para-diferenciar-las-muestras-del-Iris-flower-data-set?--Cambie-x_index-e-y_index-en-la-última-pieza-de-código-para-encontrar-una-combinación-de-parámetros-que-maximice-la-separación-entre-clases.-Incluya-abajo-el-código-necesario-para-representar-las-diferentes-clases-lo-más-separadas-posible-y-ejecute-para-representar-la-gráfica.-1.5.9\"><span class=\"toc-item-num\">1.5.9&nbsp;&nbsp;</span>¿Cuál parece el mejor gráfico para diferenciar las muestras del Iris flower data set?  Cambie <code>x_index</code> e <code>y_index</code> en la última pieza de código para encontrar una combinación de parámetros que maximice la separación entre clases. Incluya abajo el código necesario para representar las diferentes clases lo más separadas posible y ejecute para representar la gráfica.</a></span></li></ul></li></ul></li></ul></div>"
      ]
    },
    {
      "cell_type": "markdown",
      "metadata": {
        "colab_type": "text",
        "id": "QVUYG31lSidK"
      },
      "source": [
        "# Práctica No. 1. Introducción a Machine Learning y Redes Neuronales\n",
        "\n",
        "\n",
        "Esta sesión cubrirá los conceptos básicos de Scikit-Learn, un paquete popular que contiene una colección de herramientas para el aprendizaje automático escritas en Python. Ver más en http://scikit-learn.org."
      ]
    },
    {
      "cell_type": "markdown",
      "metadata": {
        "colab_type": "text",
        "id": "atGSlr5pSidT"
      },
      "source": [
        "## Finalidad de la práctica\n",
        "\n",
        "Esta práctica tiene como finalidad introducir los conceptos centrales del aprendizaje automático y cómo se pueden aplicar en Python utilizando el paquete Scikit-Learn.\n",
        "\n",
        "- Familiarizarse con el manejo de un entorno **Python**, **Jupyter Notebook** (ficheros con extensión `.ipynb`) y las principales librerías de cálculo numérico como **numpy**.\n",
        "- Afianzar las definiciones de Machine Learning a través de ejemplo muy sencillos.\n",
        "- Introducción a la representación de los datos en **Scikit-Learn**.\n",
        "- Introducción al uso de **Scikit-Learn API**."
      ]
    },
    {
      "cell_type": "markdown",
      "metadata": {
        "colab_type": "text",
        "id": "X3I0_V5jSidZ"
      },
      "source": [
        "## Sobre Scikit-Learn\n",
        "\n",
        "[Scikit-Learn](http://github.com/scikit-learn/scikit-learn) es un paquete de Python diseñado para dar acceso a algoritmos de **Aprendizaje Automático** bien conocidos dentro del código **Python**, a través de una API limpia y bien pensada. Ha sido construido por cientos de colaboradores de todo el mundo y se usa en la industria y el mundo académico.\n",
        "\n",
        "**Scikit-Learn** esá basada en las librerías [NumPy (Numerical Python)](http://numpy.org) y [SciPy (Scientific Python)](http://scipy.org), que permiten la computación numérica y científica eficiente en Python.\n",
        "\n",
        "Para esta breve introducción, nos centraremos en visualzación y análisis de conjuntos de datos pequeños o medianos con **Scikit-Learn**."
      ]
    },
    {
      "cell_type": "code",
      "metadata": {
        "colab_type": "code",
        "id": "-_d0IIr-Sidc",
        "colab": {}
      },
      "source": [
        "from IPython.core.display import HTML"
      ],
      "execution_count": null,
      "outputs": []
    },
    {
      "cell_type": "markdown",
      "metadata": {
        "colab_type": "text",
        "id": "sYn-_Nf4Sidt"
      },
      "source": [
        "<img src=\"images/scikit-learn.png\" width=\"300\" height=\"300\" align=\"center\"/>"
      ]
    },
    {
      "cell_type": "code",
      "metadata": {
        "colab_type": "code",
        "id": "6AEU_gkLSidw",
        "colab": {
          "base_uri": "https://localhost:8080/",
          "height": 51
        },
        "outputId": "51aedc0e-3c10-4762-8aae-a029b75269b9"
      },
      "source": [
        "print(\"Scikit-learn Logo\\n\")"
      ],
      "execution_count": null,
      "outputs": [
        {
          "output_type": "stream",
          "text": [
            "Scikit-learn Logo\n",
            "\n"
          ],
          "name": "stdout"
        }
      ]
    },
    {
      "cell_type": "markdown",
      "metadata": {
        "colab_type": "text",
        "id": "-JzqHEVhSieA"
      },
      "source": [
        "## ¿Qué es el Machine Learning?\n",
        "\n",
        "En esta sección comenzaremos a explorar los principios básicos del aprendizaje automático. El aprendizaje automático consiste en crear programas con **parámetros ajustables** (normalmente una matriz de valores numéricos) que se ajustan automáticamente para mejorar su comportamiento mediante la adaptación **a los datos vistos anteriormente**."
      ]
    },
    {
      "cell_type": "markdown",
      "metadata": {
        "colab_type": "text",
        "id": "_zVhNZVmSieD"
      },
      "source": [
        "<img src=\"images/mlearning.png\" width=\"600\" height=\"600\" align=\"center\"/>"
      ]
    },
    {
      "cell_type": "code",
      "metadata": {
        "colab_type": "code",
        "id": "kwJOvCnDSieF",
        "colab": {},
        "outputId": "31f5d94c-c3b4-48c7-ce95-0d4f05b51d5c"
      },
      "source": [
        "print(\"Artificial Intelligence, Machine Learning and Deep Learning relationships\\n\")"
      ],
      "execution_count": null,
      "outputs": [
        {
          "output_type": "stream",
          "text": [
            "Artificial Intelligence, Machine Learning and Deep Learning relationships\n",
            "\n"
          ],
          "name": "stdout"
        }
      ]
    },
    {
      "cell_type": "markdown",
      "metadata": {
        "colab_type": "text",
        "id": "Z04Hv9qvSieS"
      },
      "source": [
        "El aprendizaje automático puede considerarse un subcampo de **Inteligencia Artificial** desde que los algoritmos se pueden ver como bloques de construcción para que las máquinas aprendan a comportarse de una manera más inteligente a través de la **generalización** en lugar de simplemente almacenar y recuperar elementos de datos como haría un sistema de base de datos.\n",
        "\n",
        "Vamos a echar un vistazo a dos tareas muy simples de aprendizaje automático aquí. La primera es una tarea de **clasificación**: la figura muestra una recopilación de datos bidimensionales, coloreados según dos clases diferentes. Se puede usar un algoritmo de clasificación para dibujar un límite de división entre los dos grupos de puntos:"
      ]
    },
    {
      "cell_type": "code",
      "metadata": {
        "colab_type": "code",
        "id": "nfqOAWOuSieU",
        "colab": {},
        "outputId": "c37b23da-76aa-4a1c-c6b7-66117424c6e2"
      },
      "source": [
        "# En esta celda se incluye un script que representa las pipelines de los principales paradigmas del Machine Learning.\n",
        "\n",
        "import numpy as np\n",
        "import pylab as pl\n",
        "from matplotlib.patches import Circle, Rectangle, Polygon, Arrow, FancyArrow\n",
        "%matplotlib inline\n",
        "\n",
        "def create_base(box_bg = '#CCCCCC',\n",
        "                arrow1 = '#88CCFF',\n",
        "                arrow2 = '#88FF88',\n",
        "                supervised=True):\n",
        "    fig = pl.figure(figsize=(9, 6), facecolor='w')\n",
        "    ax = pl.axes((0, 0, 1, 1),\n",
        "                 xticks=[], yticks=[], frameon=False)\n",
        "    ax.set_xlim(0, 9)\n",
        "    ax.set_ylim(0, 6)\n",
        "\n",
        "    patches = [Rectangle((0.3, 3.6), 1.5, 1.8, zorder=1, fc=box_bg),\n",
        "               Rectangle((0.5, 3.8), 1.5, 1.8, zorder=2, fc=box_bg),\n",
        "               Rectangle((0.7, 4.0), 1.5, 1.8, zorder=3, fc=box_bg),\n",
        "               \n",
        "               Rectangle((2.9, 3.6), 0.2, 1.8, fc=box_bg),\n",
        "               Rectangle((3.1, 3.8), 0.2, 1.8, fc=box_bg),\n",
        "               Rectangle((3.3, 4.0), 0.2, 1.8, fc=box_bg),\n",
        "               \n",
        "               Rectangle((0.3, 0.2), 1.5, 1.8, fc=box_bg),\n",
        "               \n",
        "               Rectangle((2.9, 0.2), 0.2, 1.8, fc=box_bg),\n",
        "               \n",
        "               Circle((5.5, 3.5), 1.0, fc=box_bg),\n",
        "               \n",
        "               Polygon([[5.5, 1.7],\n",
        "                        [6.1, 1.1],\n",
        "                        [5.5, 0.5],\n",
        "                        [4.9, 1.1]], fc=box_bg),\n",
        "               \n",
        "               FancyArrow(2.3, 4.6, 0.35, 0, fc=arrow1,\n",
        "                          width=0.25, head_width=0.5, head_length=0.2),\n",
        "               \n",
        "               FancyArrow(3.75, 4.2, 0.5, -0.2, fc=arrow1,\n",
        "                          width=0.25, head_width=0.5, head_length=0.2),\n",
        "               \n",
        "               FancyArrow(5.5, 2.4, 0, -0.4, fc=arrow1,\n",
        "                          width=0.25, head_width=0.5, head_length=0.2),\n",
        "               \n",
        "               FancyArrow(2.0, 1.1, 0.5, 0, fc=arrow2,\n",
        "                          width=0.25, head_width=0.5, head_length=0.2),\n",
        "               \n",
        "               FancyArrow(3.3, 1.1, 1.3, 0, fc=arrow2,\n",
        "                          width=0.25, head_width=0.5, head_length=0.2),\n",
        "               \n",
        "               FancyArrow(6.2, 1.1, 0.8, 0, fc=arrow2,\n",
        "                          width=0.25, head_width=0.5, head_length=0.2)]\n",
        "\n",
        "    if supervised:\n",
        "        patches += [Rectangle((0.3, 2.4), 1.5, 0.5, zorder=1, fc=box_bg),\n",
        "                    Rectangle((0.5, 2.6), 1.5, 0.5, zorder=2, fc=box_bg),\n",
        "                    Rectangle((0.7, 2.8), 1.5, 0.5, zorder=3, fc=box_bg),\n",
        "                    FancyArrow(2.3, 2.9, 2.0, 0, fc=arrow1,\n",
        "                               width=0.25, head_width=0.5, head_length=0.2),\n",
        "                    Rectangle((7.3, 0.85), 1.5, 0.5, fc=box_bg)]\n",
        "    else:\n",
        "        patches += [Rectangle((7.3, 0.2), 1.5, 1.8, fc=box_bg)]\n",
        "    \n",
        "    for p in patches:\n",
        "        ax.add_patch(p)\n",
        "        \n",
        "    pl.text(1.45, 4.9, \"Training\\nText,\\nDocuments,\\nImages,\\netc.\",\n",
        "            ha='center', va='center', fontsize=14)\n",
        "    \n",
        "    pl.text(3.6, 4.9, \"Feature\\nVectors\", \n",
        "            ha='left', va='center', fontsize=14)\n",
        "    \n",
        "    pl.text(5.5, 3.5, \"Machine\\nLearning\\nAlgorithm\",\n",
        "            ha='center', va='center', fontsize=14)\n",
        "    \n",
        "    pl.text(1.05, 1.1, \"New Text,\\nDocument,\\nImage,\\netc.\",\n",
        "            ha='center', va='center', fontsize=14)\n",
        "    \n",
        "    pl.text(3.3, 1.7, \"Feature\\nVector\", \n",
        "            ha='left', va='center', fontsize=14)\n",
        "    \n",
        "    pl.text(5.5, 1.1, \"Predictive\\nModel\", \n",
        "            ha='center', va='center', fontsize=12)\n",
        "\n",
        "    if supervised:\n",
        "        pl.text(1.45, 3.05, \"Labels\",\n",
        "                ha='center', va='center', fontsize=14)\n",
        "    \n",
        "        pl.text(8.05, 1.1, \"Expected\\nLabel\",\n",
        "                ha='center', va='center', fontsize=14)\n",
        "        pl.text(8.8, 5.8, \"Supervised Learning Model\",\n",
        "                ha='right', va='top', fontsize=18)\n",
        "\n",
        "    else:\n",
        "        pl.text(8.05, 1.1,\n",
        "                \"Likelihood\\nor Cluster ID\\nor Better\\nRepresentation\",\n",
        "                ha='center', va='center', fontsize=12)\n",
        "        pl.text(8.8, 5.8, \"Unsupervised Learning Model\",\n",
        "                ha='right', va='top', fontsize=18)\n",
        "        \n",
        "        \n",
        "\n",
        "def plot_supervised_chart(annotate=False):\n",
        "    create_base(supervised=True)\n",
        "    if annotate:\n",
        "        fontdict = dict(color='r', weight='bold', size=14)\n",
        "        pl.text(1.9, 4.55, 'X = vec.fit_transform(input)',\n",
        "                fontdict=fontdict,\n",
        "                rotation=20, ha='left', va='bottom')\n",
        "        pl.text(3.7, 3.2, 'clf.fit(X, y)',\n",
        "                fontdict=fontdict,\n",
        "                rotation=20, ha='left', va='bottom')\n",
        "        pl.text(1.7, 1.5, 'X_new = vec.transform(input)',\n",
        "                fontdict=fontdict,\n",
        "                rotation=20, ha='left', va='bottom')\n",
        "        pl.text(6.1, 1.5, 'y_new = clf.predict(X_new)',\n",
        "                fontdict=fontdict,\n",
        "                rotation=20, ha='left', va='bottom')\n",
        "\n",
        "def plot_unsupervised_chart():\n",
        "    create_base(supervised=False)\n",
        "\n",
        "\n",
        "if __name__ == '__main__':\n",
        "    plot_supervised_chart(True)\n",
        "    plot_unsupervised_chart()\n",
        "    pl.show()"
      ],
      "execution_count": null,
      "outputs": [
        {
          "output_type": "display_data",
          "data": {
            "image/png": "[encoded data removed]",
            "text/plain": [
              "<Figure size 648x432 with 1 Axes>"
            ]
          },
          "metadata": {
            "tags": []
          }
        },
        {
          "output_type": "display_data",
          "data": {
            "image/png": "[encoded data removed]",
            "text/plain": [
              "<Figure size 648x432 with 1 Axes>"
            ]
          },
          "metadata": {
            "tags": []
          }
        }
      ]
    },
    {
      "cell_type": "code",
      "metadata": {
        "colab_type": "code",
        "id": "AU7K0FquSiel",
        "colab": {}
      },
      "source": [
        "# Importamos las librerías\n",
        "\n",
        "%matplotlib inline\n",
        "import numpy as np\n",
        "import matplotlib.pyplot as plt\n",
        "from sklearn.linear_model import SGDClassifier\n",
        "from sklearn.datasets.samples_generator import make_blobs\n",
        "\n",
        "plt.style.use('seaborn')"
      ],
      "execution_count": null,
      "outputs": []
    },
    {
      "cell_type": "markdown",
      "metadata": {
        "colab_type": "text",
        "id": "BcSjyIaDSiez"
      },
      "source": [
        "**Definimos una función de clasificación**:"
      ]
    },
    {
      "cell_type": "code",
      "metadata": {
        "colab_type": "code",
        "id": "0F9aV0oBSie1",
        "colab": {}
      },
      "source": [
        "def plot_sgd_separator(num, groups, sep):\n",
        "    # We create num separable points\n",
        "    X, Y = make_blobs(n_samples=num, centers=groups,\n",
        "                      random_state=0, cluster_std=sep)\n",
        "\n",
        "    # Fit the model\n",
        "    clf = SGDClassifier(loss=\"hinge\", alpha=0.01,\n",
        "                        max_iter=200, fit_intercept=True)\n",
        "    clf.fit(X, Y)\n",
        "\n",
        "    # Plot the line, the points, and the nearest vectors to the plane\n",
        "    xx = np.linspace(-1, 5, 10)\n",
        "    yy = np.linspace(-1, 5, 10)\n",
        "\n",
        "    X1, X2 = np.meshgrid(xx, yy)\n",
        "    Z = np.empty(X1.shape)\n",
        "    for (i, j), val in np.ndenumerate(X1):\n",
        "        x1 = val\n",
        "        x2 = X2[i, j]\n",
        "        p = clf.decision_function(np.array([x1, x2]).reshape(1, -1))\n",
        "        Z[i, j] = p[0]\n",
        "    levels = [-1.0, 0.0, 1.0]\n",
        "    linestyles = ['dashed', 'solid', 'dashed']\n",
        "    colors = 'k'\n",
        "\n",
        "    ax = plt.axes()\n",
        "    ax.contour(X1, X2, Z, levels, colors=colors, linestyles=linestyles)\n",
        "    ax.scatter(X[:, 0], X[:, 1], c=Y, cmap=plt.cm.Paired)\n",
        "\n",
        "    ax.axis('tight')"
      ],
      "execution_count": null,
      "outputs": []
    },
    {
      "cell_type": "code",
      "metadata": {
        "colab_type": "code",
        "id": "xEuXWsSZSifH",
        "colab": {},
        "outputId": "604d8418-7c1d-4804-e8a2-a575961bcaef"
      },
      "source": [
        "# Ejecutamos la anterior función para 2 grupos de 100 puntos, por ejemplo:\n",
        "plot_sgd_separator(num=100, groups=2, sep=0.6)"
      ],
      "execution_count": null,
      "outputs": [
        {
          "output_type": "display_data",
          "data": {
            "image/png": "[encoded data removed]",
            "text/plain": [
              "<Figure size 576x396 with 1 Axes>"
            ]
          },
          "metadata": {
            "tags": []
          }
        }
      ]
    },
    {
      "cell_type": "markdown",
      "metadata": {
        "colab_type": "text",
        "id": "SpNBenbASifT"
      },
      "source": [
        "Esto puede parecer una tarea trivial, pero es una versión simple de un concepto muy importante.\n",
        "Al dibujar esta línea de separación, hemos aprendido un modelo que puede **generalizar** nuevos\n",
        "datos: si tuviera que colocar otro punto en el plano sin etiquetar, este algoritmo\n",
        "ahora podría **predecir** si es un punto azul o rojo."
      ]
    },
    {
      "cell_type": "markdown",
      "metadata": {
        "colab_type": "text",
        "id": "ct498V6eSifV"
      },
      "source": [
        "La siguiente tarea simple que veremos es una tarea de **regresión**: una línea simple que se adapta mejor a un conjunto de datos:"
      ]
    },
    {
      "cell_type": "code",
      "metadata": {
        "colab_type": "code",
        "id": "P0B5Y9UnSifY",
        "colab": {}
      },
      "source": [
        "import numpy as np\n",
        "import matplotlib.pyplot as plt\n",
        "from sklearn.linear_model import LinearRegression"
      ],
      "execution_count": 14,
      "outputs": []
    },
    {
      "cell_type": "markdown",
      "metadata": {
        "colab_type": "text",
        "id": "JK7z_kOdSifn"
      },
      "source": [
        "**Definimos una función de regresión lineal**:"
      ]
    },
    {
      "cell_type": "code",
      "metadata": {
        "colab_type": "code",
        "id": "4GtAkrYESifo",
        "colab": {}
      },
      "source": [
        "def plot_linear_regression(a, b, num_points):\n",
        "    # The slope (a) and the interception with y-axis (bias) are defined as a function input.\n",
        "    \n",
        "    # x from 0 to 30\n",
        "    x = 10 * np.random.random(50)\n",
        "\n",
        "    # y = a * x + b with gaussian noise\n",
        "    y = a * x + b + np.random.normal(size=x.shape)\n",
        "\n",
        "    # Create a linear regression classifier\n",
        "    clf = LinearRegression()\n",
        "    clf.fit(x[:, None], y)\n",
        "\n",
        "    # Predict y from the data\n",
        "    x_new = np.linspace(0, 10, 100)\n",
        "    y_new = clf.predict(x_new[:, None])\n",
        "\n",
        "    # Plot the results\n",
        "    ax = plt.axes()\n",
        "    ax.scatter(x, y, s=10)\n",
        "    ax.plot(x_new, y_new, c='k', linewidth=1.)\n",
        "\n",
        "    ax.set_xlabel('x')\n",
        "    ax.set_ylabel('y')\n",
        "\n",
        "    ax.axis('tight')"
      ],
      "execution_count": null,
      "outputs": []
    },
    {
      "cell_type": "markdown",
      "metadata": {
        "colab_type": "text",
        "id": "TKD1XRHeSif0"
      },
      "source": [
        "Por ejemplo, para ejecutar la función de arriba con una pendiente $a=1.0$ y un corte de ordenadas $b=1.0$ para $50$ puntos:"
      ]
    },
    {
      "cell_type": "code",
      "metadata": {
        "colab_type": "code",
        "id": "5-g8lcJLSif2",
        "colab": {},
        "outputId": "12804838-90cb-4df1-f673-b6c8cc071661"
      },
      "source": [
        "plot_linear_regression(a=1.0, b=1.0, num_points=50)\n",
        "plt.show()"
      ],
      "execution_count": null,
      "outputs": [
        {
          "output_type": "display_data",
          "data": {
            "image/png": "[encoded data removed]",
            "text/plain": [
              "<Figure size 576x396 with 1 Axes>"
            ]
          },
          "metadata": {
            "tags": []
          }
        }
      ]
    },
    {
      "cell_type": "markdown",
      "metadata": {
        "colab_type": "text",
        "id": "Z3K6EZR1SigD"
      },
      "source": [
        "De nuevo, este es un ejemplo de ajuste de un modelo a los datos, de manera que el modelo puede hacer generalizaciones sobre nuevos datos. El modelo ha **aprendido** a partir del training dataset, y se puede utilizar para predecir el resultado de los datos de testeo.\n",
        "\n",
        "\n",
        "Aquí, se nos puede dar un valor de $x$, y el modelo nos permitirá predecir el valor de $y$. Una vez más, esto puede parecer un problema trivial, pero es un ejemplo básico de un tipo de operación que resulta fundamental para Tareas de Machine Learning."
      ]
    },
    {
      "cell_type": "markdown",
      "metadata": {
        "colab_type": "text",
        "id": "yMb_SHioSigF"
      },
      "source": [
        "--------------------------------------"
      ]
    },
    {
      "cell_type": "markdown",
      "metadata": {
        "colab_type": "text",
        "id": "MgDp0bGJSigI"
      },
      "source": [
        "### Primera pregunta (3 puntos)"
      ]
    },
    {
      "cell_type": "markdown",
      "metadata": {
        "colab_type": "text",
        "id": "D3VjMf1BSigK"
      },
      "source": [
        "### a) Habiendo definido la función que representa la **regresión lineal**, representar una regresión lineal a `50 puntos` con una pendiente de `1.5` y un punto de corte con ordenadas de `2.0`. (1 punto)"
      ]
    },
    {
      "cell_type": "code",
      "metadata": {
        "colab_type": "code",
        "id": "nRVzXQg-SigL",
        "colab": {
          "base_uri": "https://localhost:8080/",
          "height": 279
        },
        "outputId": "8f5488ce-9905-4c0d-b56c-f0c7c95a9755"
      },
      "source": [
        "import numpy as np\n",
        "import matplotlib.pyplot as plt\n",
        "from sklearn.linear_model import LinearRegression\n",
        "\n",
        "def plot_linear_regression(a, b, num_points):\n",
        "    # The slope (a) and the interception with y-axis (bias) are defined as a function input.\n",
        "    \n",
        "    # x from 0 to 50\n",
        "    x = 10 * np.random.random(50)\n",
        "\n",
        "    # y = a * x + b with gaussian noise\n",
        "    y = a * x + b + np.random.normal(size=x.shape)\n",
        "\n",
        "    # Create a linear regression classifier\n",
        "    clf = LinearRegression()\n",
        "    clf.fit(x[:, None], y)\n",
        "\n",
        "    # Predict y from the data\n",
        "    x_new = np.linspace(0, 10, 100)\n",
        "    y_new = clf.predict(x_new[:, None])\n",
        "\n",
        "    # Plot the results\n",
        "    ax = plt.axes()\n",
        "    ax.scatter(x, y, s=10)\n",
        "    ax.plot(x_new, y_new, c='k', linewidth=1.)\n",
        "\n",
        "    ax.set_xlabel('x')\n",
        "    ax.set_ylabel('y')\n",
        "\n",
        "    ax.axis('tight')\n",
        "\n",
        "plot_linear_regression(a=1.5, b=2.0, num_points=50)\n",
        "plt.show()\n"
      ],
      "execution_count": null,
      "outputs": [
        {
          "output_type": "display_data",
          "data": {
            "image/png": "[encoded data removed]",
            "text/plain": [
              "<Figure size 432x288 with 1 Axes>"
            ]
          },
          "metadata": {
            "tags": [],
            "needs_background": "light"
          }
        }
      ]
    },
    {
      "cell_type": "markdown",
      "metadata": {
        "colab_type": "text",
        "id": "xZ30nlexSigU"
      },
      "source": [
        "### b) Modifique el ruido gausiano incluido a los datos sobre los que se realiza la regresión lineal en la función `plot_linear_regression` (2 puntos)"
      ]
    },
    {
      "cell_type": "markdown",
      "metadata": {
        "colab_type": "text",
        "id": "Wn0Qr4Q9SigW"
      },
      "source": [
        "Recuerde que la distribución normal sigue el siguiente perfil:\n",
        "\n",
        "\\begin{equation}\\label{eq:}\n",
        "p(x) = \\frac{1}{\\sqrt{2\\pi \\sigma^2}} e^{-\\frac{(x-\\mu)^2}{2\\sigma^2}}\n",
        "\\end{equation}\n",
        "\n",
        "donde $\\mu$ es la media y $\\sigma$ es la desviación típica de la distribución."
      ]
    },
    {
      "cell_type": "markdown",
      "metadata": {
        "colab_type": "text",
        "id": "7yKz-Q0PSigY"
      },
      "source": [
        "Pista en el [siguiente enlace](https://docs.scipy.org/doc/numpy-1.14.1/reference/generated/numpy.random.normal.html#numpy.random.normal)."
      ]
    },
    {
      "cell_type": "code",
      "metadata": {
        "colab_type": "code",
        "id": "SYgHpJBHSiga",
        "colab": {}
      },
      "source": [
        "\n",
        "def plot_linear_regression_mod(a, b, num_points, loc = 0.0, scale = 1.0):\n",
        "    # The slope (a) and the interception with y-axis (bias) are defined as a function input.\n",
        "    \n",
        "    # x from 0 to 30\n",
        "    x = 10 * np.random.random(50)\n",
        "\n",
        "    # y = a * x + b with gaussian noise\n",
        "    y = a * x + b + np.random.normal(loc, scale, size=x.shape)\n",
        "\n",
        "    # Create a linear regression classifier\n",
        "    clf = LinearRegression()\n",
        "    clf.fit(x[:, None], y)\n",
        "\n",
        "    # Predict y from the data\n",
        "    x_new = np.linspace(0, 10, 100)\n",
        "    y_new = clf.predict(x_new[:, None])\n",
        "\n",
        "    # Plot the results\n",
        "    ax = plt.axes()\n",
        "    ax.scatter(x, y, s=10)\n",
        "    ax.plot(x_new, y_new, c='k', linewidth=1.)\n",
        "\n",
        "    ax.set_xlabel('x')\n",
        "    ax.set_ylabel('y')\n",
        "\n",
        "    ax.axis('tight')\n"
      ],
      "execution_count": null,
      "outputs": []
    },
    {
      "cell_type": "markdown",
      "metadata": {
        "colab_type": "text",
        "id": "xPmUKMwjSign"
      },
      "source": [
        "### ¿Qué observa en los puntos aleatoriamente generados si la desviación típica es $\\sigma = 5.0$ manteniendo la desviación de la media en $\\mu = 0$ ? ¿Qué efectos tiene en la recta ajustada por el estimador `LinearRegressor`? "
      ]
    },
    {
      "cell_type": "code",
      "metadata": {
        "colab_type": "code",
        "id": "j3Cgr98KSigo",
        "colab": {
          "base_uri": "https://localhost:8080/",
          "height": 279
        },
        "outputId": "43836e07-f7f7-4d31-df41-28fb3a854d80"
      },
      "source": [
        "plot_linear_regression_mod(a=1.5, b=2.0, num_points=50, loc = 0.0, scale = 5.0)\n",
        "plt.show()"
      ],
      "execution_count": null,
      "outputs": [
        {
          "output_type": "display_data",
          "data": {
            "image/png": "[encoded data removed]",
            "text/plain": [
              "<Figure size 432x288 with 1 Axes>"
            ]
          },
          "metadata": {
            "tags": [],
            "needs_background": "light"
          }
        }
      ]
    },
    {
      "cell_type": "markdown",
      "metadata": {
        "colab_type": "text",
        "id": "BAf9hjTjSigz"
      },
      "source": [
        "### ¿Qué efecto en los puntos aleatoriamente generados si la desviación típica es  $\\sigma=0$  cambiando la desviación de la media a $\\mu=5$? ¿Qué efectos tiene en la recta ajustada por el estimador `LinearRegressor`? "
      ]
    },
    {
      "cell_type": "code",
      "metadata": {
        "colab_type": "code",
        "id": "GXi4_U-fSig2",
        "colab": {
          "base_uri": "https://localhost:8080/",
          "height": 279
        },
        "outputId": "c4ddf852-5e20-41db-d35d-cf944609a71b"
      },
      "source": [
        "\n",
        "plot_linear_regression_mod(a=1.5, b=2.0, num_points=50, loc = 5.0, scale = 0)\n",
        "plt.show()"
      ],
      "execution_count": null,
      "outputs": [
        {
          "output_type": "display_data",
          "data": {
            "image/png": "[encoded data removed]",
            "text/plain": [
              "<Figure size 432x288 with 1 Axes>"
            ]
          },
          "metadata": {
            "tags": [],
            "needs_background": "light"
          }
        }
      ]
    },
    {
      "cell_type": "markdown",
      "metadata": {
        "colab_type": "text",
        "id": "116HKRKaSihB"
      },
      "source": [
        "-------------------------------------------------"
      ]
    },
    {
      "cell_type": "markdown",
      "metadata": {
        "colab_type": "text",
        "id": "VxkgGqNCSihC"
      },
      "source": [
        "## Representación de datos con Scikit-Learn\n",
        "\n",
        "El **Aprendizaje Automático** consiste en crear modelos a partir de datos: por esa razón, comenzaremos por analizar cómo se pueden representar los datos para que nuestro modelo pueda comprenderlos. Junto con esto, desarrollaremos nuestros ejemplos de matplotlib de la sección anterior y mostraremos algunos ejemplos de cómo visualizar datos."
      ]
    },
    {
      "cell_type": "markdown",
      "metadata": {
        "colab_type": "text",
        "id": "YZYA1FEjSihE"
      },
      "source": [
        "La mayoría de los algortimos de Machine Learning esperan que los datos estén almacenados en tensores, generalmente de orden 2 u oreden 3. En este caso trabajaremos con **matrices bidimensionales**.  Los arrays, por lo general, si se trabaja con librerías como Scikit-Learn se pueden contruir con  ``numpy`` arrays o ``scipy.sparse``.\n",
        "La dimensaionalidad de esta matriz es `[n_samples, n_features]`\n",
        "\n",
        "- **n_samples:**   La cantidad de muestras: cada muestra es un elemento para procesar (por ejemplo, clasificar). Una muestra puede ser un documento, una imagen, un sonido, un video, un objeto astronómico, una fila en la base de datos o un archivo CSV, o lo que pueda describir con un conjunto fijo de rasgos cuantitativos.\n",
        "- **n_features:**  La cantidad de características o rasgos distintos que se pueden usar para describir cada elemento de manera cuantitativa. Las características son generalmente de valor real, pero pueden ser booleanas o de valor discreto en algunos casos.\n",
        "\n",
        "El número de características debe estar fijado de antemano. Debe haber un **número fijo** de características o features para cada muestra, mientras que cada número ``i`` de una característica debe ser de un orden de magnitud similar para todas las muestras. Sin embargo, puede tener dimanesionalidad muy elevada (por ejemplo, millones de características) y la mayoría de ellas son ceros para una muestra determinada. Este es un caso en el que las matrices `scipy.sparse` pueden ser útiles, ya que son mucho más eficientes en memoria que las matrices `numpy`."
      ]
    },
    {
      "cell_type": "markdown",
      "metadata": {
        "colab_type": "text",
        "id": "FXNw6M0xSihF"
      },
      "source": [
        "![Data Layout](images/data-layout.png)\n",
        "\n",
        "(Imagen obtenida de [Python Data Science Handbook](https://github.com/jakevdp/PythonDataScienceHandbook))"
      ]
    },
    {
      "cell_type": "markdown",
      "metadata": {
        "colab_type": "text",
        "id": "KZi7PaGESihI"
      },
      "source": [
        "## Un ejemplo sencillo: el Iris flower data set\n",
        "\n",
        "Como ejemplo de un conjunto de datos simple, vamos a echar un vistazo a los datos del iris almacenados por scikit-learn.\n",
        "Los datos consisten en mediciones de tres especies diferentes de lirios.\n",
        "Hay tres especies de iris en el conjunto de datos, que podemos ver aquí:"
      ]
    },
    {
      "cell_type": "markdown",
      "metadata": {
        "colab_type": "text",
        "id": "L1CTtdVcSihK"
      },
      "source": [
        "A continuación, puede ver de izquierda a derecha muestras de lirios **setosa**, **versicolor** y **virgínica** respectivamente."
      ]
    },
    {
      "cell_type": "markdown",
      "metadata": {
        "colab_type": "text",
        "id": "HVJXIh22SihM"
      },
      "source": [
        "<img src=\"images/iris_setosa.jpg\" width=\"350\" height=\"300\" align=\"left\"/>\n",
        "<img src=\"images/iris_versicolor.jpg\" width=\"300\" height=\"300\" align=\"right\"/>\n",
        "<img src=\"images/iris_virginica.jpg\" width=\"300\" height=\"300\" align=\"center\"/>"
      ]
    },
    {
      "cell_type": "markdown",
      "metadata": {
        "colab_type": "text",
        "id": "EOwmdlu6SihO"
      },
      "source": [
        "### Cargando el Iris Dataset con Scikit-Learn\n",
        "\n",
        "\n",
        "Scikit-Learn cuenta con un gran número de datasets que se pueden importar de manera rápida y directa. entre ellos se encuentra el dataset de las diferentes especies de lirios. Nuestros datos consisten en:\n",
        "\n",
        "- **Características del Iris dataset**:\n",
        "  1. Longitud del sépalo en cm\n",
        "  2. Anchura del sépalo en cm\n",
        "  3. Longitud del pétalo en cm\n",
        "  4. Anchura del pétalo en cm\n",
        "\n",
        "\n",
        "- **Las clases soportadas en este dataset son**:\n",
        "\n",
        "Apuntamos a los dos primeros números naturales y al 0.\n",
        "  1. Iris Setosa $\\rightarrow 0$\n",
        "  2. Iris Versicolour $\\rightarrow 1$\n",
        "  3. Iris Virginica $\\rightarrow 2$\n",
        "  \n",
        "``scikit-learn`` embebe una copia del archivo `csv` de iris junto con una función auxiliar para cargarlo en matrices numpy:"
      ]
    },
    {
      "cell_type": "code",
      "metadata": {
        "colab_type": "code",
        "id": "BmSkW2mGSihQ",
        "colab": {}
      },
      "source": [
        "from sklearn.datasets import load_iris\n",
        "iris = load_iris()"
      ],
      "execution_count": 12,
      "outputs": []
    },
    {
      "cell_type": "markdown",
      "metadata": {
        "colab_type": "text",
        "id": "KFg6gjooSihY"
      },
      "source": [
        "Ya tenemos cargado en la variable `iris` toda la información de nuestro dataset. Podremos acceder a todas las características de nuestro dataset como si lo tuviéramos almacenados en columnas."
      ]
    },
    {
      "cell_type": "code",
      "metadata": {
        "colab_type": "code",
        "id": "ZerAbNMZSiha",
        "colab": {
          "base_uri": "https://localhost:8080/",
          "height": 35
        },
        "outputId": "3a22c65e-cb61-4af5-d011-50e2c4d554ec"
      },
      "source": [
        "iris.keys()"
      ],
      "execution_count": 4,
      "outputs": [
        {
          "output_type": "execute_result",
          "data": {
            "text/plain": [
              "dict_keys(['data', 'target', 'target_names', 'DESCR', 'feature_names', 'filename'])"
            ]
          },
          "metadata": {
            "tags": []
          },
          "execution_count": 4
        }
      ]
    },
    {
      "cell_type": "markdown",
      "metadata": {
        "colab_type": "text",
        "id": "kAQD58OaSihi"
      },
      "source": [
        "Por ejemplo, las **longitudes y anchuras** de las primeras 5 flores son:"
      ]
    },
    {
      "cell_type": "code",
      "metadata": {
        "colab_type": "code",
        "id": "u_Sfd8uvSihk",
        "colab": {
          "base_uri": "https://localhost:8080/",
          "height": 107
        },
        "outputId": "820a1b4e-b12a-4bb3-9c52-d8a85bb33600"
      },
      "source": [
        "iris.data[0:5]"
      ],
      "execution_count": 5,
      "outputs": [
        {
          "output_type": "execute_result",
          "data": {
            "text/plain": [
              "array([[5.1, 3.5, 1.4, 0.2],\n",
              "       [4.9, 3. , 1.4, 0.2],\n",
              "       [4.7, 3.2, 1.3, 0.2],\n",
              "       [4.6, 3.1, 1.5, 0.2],\n",
              "       [5. , 3.6, 1.4, 0.2]])"
            ]
          },
          "metadata": {
            "tags": []
          },
          "execution_count": 5
        }
      ]
    },
    {
      "cell_type": "markdown",
      "metadata": {
        "colab_type": "text",
        "id": "ATsTid3fSiht"
      },
      "source": [
        "Mientras que las **clases** de esas cinco corresponden a:"
      ]
    },
    {
      "cell_type": "code",
      "metadata": {
        "colab_type": "code",
        "id": "mKhUGRn0Sihw",
        "colab": {
          "base_uri": "https://localhost:8080/",
          "height": 35
        },
        "outputId": "7526aa94-2536-4602-89db-badd51c25534"
      },
      "source": [
        "iris.target[0:5]"
      ],
      "execution_count": 6,
      "outputs": [
        {
          "output_type": "execute_result",
          "data": {
            "text/plain": [
              "array([0, 0, 0, 0, 0])"
            ]
          },
          "metadata": {
            "tags": []
          },
          "execution_count": 6
        }
      ]
    },
    {
      "cell_type": "markdown",
      "metadata": {
        "colab_type": "text",
        "id": "GPznuXjSSih4"
      },
      "source": [
        "Por lo que estas primeras 5 son todas `setosa`."
      ]
    },
    {
      "cell_type": "markdown",
      "metadata": {
        "colab_type": "text",
        "id": "602oZt5HSih-"
      },
      "source": [
        "Como veremos a continuación, contamos con una matris de **150 muestras**, cada una con **4 características**."
      ]
    },
    {
      "cell_type": "code",
      "metadata": {
        "colab_type": "code",
        "id": "TqtwsEJhSiiD",
        "scrolled": true,
        "colab": {
          "base_uri": "https://localhost:8080/",
          "height": 53
        },
        "outputId": "3567c79d-1575-45eb-c3e5-fbf10d6bd316"
      },
      "source": [
        "n_samples, n_features = iris.data.shape\n",
        "print('Dimensionalidad del dataset: ',(n_samples, n_features))\n",
        "print(iris.data[0])"
      ],
      "execution_count": 7,
      "outputs": [
        {
          "output_type": "stream",
          "text": [
            "Dimensionalidad del dataset:  (150, 4)\n",
            "[5.1 3.5 1.4 0.2]\n"
          ],
          "name": "stdout"
        }
      ]
    },
    {
      "cell_type": "code",
      "metadata": {
        "colab_type": "code",
        "id": "GZaVgEztSiiY",
        "colab": {
          "base_uri": "https://localhost:8080/",
          "height": 53
        },
        "outputId": "96ca3c36-b501-45e4-bd1d-c4c37f9fcd70"
      },
      "source": [
        "print(iris.data.shape)\n",
        "print(iris.target.shape)"
      ],
      "execution_count": 8,
      "outputs": [
        {
          "output_type": "stream",
          "text": [
            "(150, 4)\n",
            "(150,)\n"
          ],
          "name": "stdout"
        }
      ]
    },
    {
      "cell_type": "markdown",
      "metadata": {
        "colab_type": "text",
        "id": "EkKlTU9USiic"
      },
      "source": [
        "Las etiquetas que le facilitamos a un modelo de clasificación para que las aprenda a generalizar son: "
      ]
    },
    {
      "cell_type": "code",
      "metadata": {
        "colab_type": "code",
        "id": "LWHp2OwWSiic",
        "colab": {
          "base_uri": "https://localhost:8080/",
          "height": 107
        },
        "outputId": "b32c29aa-2f25-4218-9bce-2e4505601cdf"
      },
      "source": [
        "print(iris.target)"
      ],
      "execution_count": 9,
      "outputs": [
        {
          "output_type": "stream",
          "text": [
            "[0 0 0 0 0 0 0 0 0 0 0 0 0 0 0 0 0 0 0 0 0 0 0 0 0 0 0 0 0 0 0 0 0 0 0 0 0\n",
            " 0 0 0 0 0 0 0 0 0 0 0 0 0 1 1 1 1 1 1 1 1 1 1 1 1 1 1 1 1 1 1 1 1 1 1 1 1\n",
            " 1 1 1 1 1 1 1 1 1 1 1 1 1 1 1 1 1 1 1 1 1 1 1 1 1 1 2 2 2 2 2 2 2 2 2 2 2\n",
            " 2 2 2 2 2 2 2 2 2 2 2 2 2 2 2 2 2 2 2 2 2 2 2 2 2 2 2 2 2 2 2 2 2 2 2 2 2\n",
            " 2 2]\n"
          ],
          "name": "stdout"
        }
      ]
    },
    {
      "cell_type": "code",
      "metadata": {
        "colab_type": "code",
        "id": "KY-tIm_RSiig",
        "colab": {
          "base_uri": "https://localhost:8080/",
          "height": 35
        },
        "outputId": "22e54363-f831-46ba-fc3c-4c3980cc8dab"
      },
      "source": [
        "print(iris.target_names)"
      ],
      "execution_count": 10,
      "outputs": [
        {
          "output_type": "stream",
          "text": [
            "['setosa' 'versicolor' 'virginica']\n"
          ],
          "name": "stdout"
        }
      ]
    },
    {
      "cell_type": "markdown",
      "metadata": {
        "colab_type": "text",
        "id": "arwbIASHSiim"
      },
      "source": [
        "Aunque este dataset sea cuente con **cuatro características** y su representación sea imposible en un gráfico, se puede visualizar una proyección en dos dimensiones en un **scatter-plot** simple:"
      ]
    },
    {
      "cell_type": "code",
      "metadata": {
        "colab_type": "code",
        "id": "HCoaZVo8Siim",
        "colab": {
          "base_uri": "https://localhost:8080/",
          "height": 279
        },
        "outputId": "68be39e4-5902-46da-c57d-85d1d24ac406"
      },
      "source": [
        "x_index = 0\n",
        "y_index = 2\n",
        "\n",
        "# Esta línea de código es sólo para crear una barra de leyenda para las clases\n",
        "formatter = plt.FuncFormatter(lambda i, *args: iris.target_names[int(i)])\n",
        "\n",
        "plt.scatter(iris.data[:, x_index], iris.data[:, y_index],\n",
        "            c=iris.target, cmap=plt.cm.get_cmap('RdYlBu', 3))\n",
        "plt.colorbar(ticks=[0, 1, 2], format=formatter)\n",
        "plt.clim(-0.5, 2.5)\n",
        "plt.xlabel(iris.feature_names[x_index])\n",
        "plt.ylabel(iris.feature_names[y_index]);"
      ],
      "execution_count": 15,
      "outputs": [
        {
          "output_type": "display_data",
          "data": {
            "image/png": "[encoded data removed]",
            "text/plain": [
              "<Figure size 432x288 with 2 Axes>"
            ]
          },
          "metadata": {
            "tags": [],
            "needs_background": "light"
          }
        }
      ]
    },
    {
      "cell_type": "markdown",
      "metadata": {
        "colab_type": "text",
        "id": "cAboYETDSiip"
      },
      "source": [
        "------------------------------------------------------------"
      ]
    },
    {
      "cell_type": "markdown",
      "metadata": {
        "colab_type": "text",
        "id": "Ky0J4oUvSiiq"
      },
      "source": [
        "### Segunda pregunta (4 puntos):"
      ]
    },
    {
      "cell_type": "markdown",
      "metadata": {
        "colab_type": "text",
        "id": "TBaeOeyQSiir"
      },
      "source": [
        "### a) Si queremos diseñar un algoritmo de clasificación que reconozca las especies de lirios, ¿qué tipos de datos de nuestro dataset vamos a necesitar? (1 punto)"
      ]
    },
    {
      "cell_type": "code",
      "metadata": {
        "colab_type": "code",
        "id": "UnpBZTrtSiis",
        "colab": {}
      },
      "source": [
        "longitud y anchura de los pétalos y sépalos, así como las clases de lirios"
      ],
      "execution_count": null,
      "outputs": []
    },
    {
      "cell_type": "markdown",
      "metadata": {
        "colab_type": "text",
        "id": "mhC5L97vSiiv"
      },
      "source": [
        "### b) ¿Dentro de qué paradigma de aprendizaje caería la clasificación por mapeo características-etiquetas del dataset Iris Setosa? Justifique brevemente su respuesta (1 punto)"
      ]
    },
    {
      "cell_type": "code",
      "metadata": {
        "colab_type": "code",
        "id": "NDfvPil-Siiv",
        "colab": {}
      },
      "source": [
        "Supervisado puesto que se especifican las etiquetas de las clases de lirios que hay"
      ],
      "execution_count": null,
      "outputs": []
    },
    {
      "cell_type": "markdown",
      "metadata": {
        "colab_type": "text",
        "id": "fMKVT_K7Siiz"
      },
      "source": [
        "### c) ¿Se podría hacer uso de aprendizaje no-supervisado para clasificar este dataset? De ser así, ¿qué familia de algoritmos se podría usar para ese fin? (1 punto)"
      ]
    },
    {
      "cell_type": "code",
      "metadata": {
        "colab_type": "code",
        "id": "PE7snsiDSii0",
        "colab": {}
      },
      "source": [
        "Sí, se podría usar el aprendizaje no supervisado utilizando la familia de algoritmos de scikitlearn para clustering como KNearest"
      ],
      "execution_count": null,
      "outputs": []
    },
    {
      "cell_type": "markdown",
      "metadata": {
        "colab_type": "text",
        "id": "JLv_UsHuSii5"
      },
      "source": [
        "Recordemos: vamos a necesitar una matriz de dimensión `[n_samples x n_features]`."
      ]
    },
    {
      "cell_type": "markdown",
      "metadata": {
        "colab_type": "text",
        "id": "ct1u93M2Sii6"
      },
      "source": [
        "### d) ¿A qué se refiere `n_samples` con el caso del dataset de los lirios? (0,5 puntos)"
      ]
    },
    {
      "cell_type": "code",
      "metadata": {
        "colab_type": "code",
        "id": "T2_8aWmgSii7",
        "colab": {}
      },
      "source": [
        "A las Muestras"
      ],
      "execution_count": null,
      "outputs": []
    },
    {
      "cell_type": "markdown",
      "metadata": {
        "colab_type": "text",
        "id": "ZkwmJKWnSii_"
      },
      "source": [
        "### e) ¿Con qué se equipara `n_features` en el caso del dataset de los lirios? (0,5 puntos)"
      ]
    },
    {
      "cell_type": "code",
      "metadata": {
        "colab_type": "code",
        "id": "kDIG5HhTSijA",
        "colab": {}
      },
      "source": [
        "características de las muestas"
      ],
      "execution_count": null,
      "outputs": []
    },
    {
      "cell_type": "markdown",
      "metadata": {
        "colab_type": "text",
        "id": "3p1FpK-jSijO"
      },
      "source": [
        "-----------------------------------------------"
      ]
    },
    {
      "cell_type": "markdown",
      "metadata": {
        "colab_type": "text",
        "id": "LhCiZLGESijR"
      },
      "source": [
        "### Tercera pregunta (3 puntos)"
      ]
    },
    {
      "cell_type": "markdown",
      "metadata": {
        "colab_type": "text",
        "id": "C2HESKaESijS"
      },
      "source": [
        "### ¿Cuál parece el mejor gráfico para diferenciar las muestras del Iris flower data set?  Cambie `x_index` e `y_index` en la última pieza de código para encontrar una combinación de parámetros que maximice la separación entre clases. Incluya abajo el código necesario para representar las diferentes clases lo más separadas posible y ejecute para representar la gráfica."
      ]
    },
    {
      "cell_type": "code",
      "metadata": {
        "colab_type": "code",
        "id": "z29RI4KgSijU",
        "colab": {
          "base_uri": "https://localhost:8080/",
          "height": 279
        },
        "outputId": "b1604e1b-f08c-4261-d7fb-d756aa87565e"
      },
      "source": [
        "y_index = 0\n",
        "x_index = 2\n",
        "\n",
        "# Esta línea de código es sólo para crear una barra de leyenda para las clases\n",
        "formatter = plt.FuncFormatter(lambda i, *args: iris.target_names[int(i)])\n",
        "\n",
        "plt.scatter(iris.data[:, x_index], iris.data[:, y_index],\n",
        "            c=iris.target, cmap=plt.cm.get_cmap('RdYlBu', 3))\n",
        "plt.colorbar(ticks=[0, 1, 2], format=formatter)\n",
        "plt.clim(-0.5, 2.5)\n",
        "plt.xlabel(iris.feature_names[x_index])\n",
        "plt.ylabel(iris.feature_names[y_index]);"
      ],
      "execution_count": 17,
      "outputs": [
        {
          "output_type": "display_data",
          "data": {
            "image/png": "[encoded data removed]",
            "text/plain": [
              "<Figure size 432x288 with 2 Axes>"
            ]
          },
          "metadata": {
            "tags": [],
            "needs_background": "light"
          }
        }
      ]
    },
    {
      "cell_type": "markdown",
      "metadata": {
        "colab_type": "text",
        "id": "wLmywmGlSijb"
      },
      "source": [
        "--------------------------------------"
      ]
    },
    {
      "cell_type": "markdown",
      "metadata": {
        "colab_type": "text",
        "id": "eOcVNgJ5Sijc"
      },
      "source": [
        "Nota: La problemática encontrada dada la dimensionalidad del dataset se resolvería haciendo uso de técnicas de reducción de dimensionalidad. Aunque no entra dentro del scope del presente módulo, pueden encontrar un resumen de estas técnicas con sus aplicaciones en los siguientes dos enlaces: \n",
        "- [Principal Component Analysis : Dimensionality Reduction Technique — Step by Step Approach](https://code.likeagirl.io/principal-component-analysis-dimensionality-reduction-technique-step-by-step-approach-ffd46623ff67)\n",
        "- [Visualising high-dimensional datasets using PCA and t-SNE in Python](https://medium.com/@luckylwk/visualising-high-dimensional-datasets-using-pca-and-t-sne-in-python-8ef87e7915b)"
      ]
    },
    {
      "cell_type": "markdown",
      "metadata": {
        "colab_type": "text",
        "id": "d5fusjeLSijf"
      },
      "source": [
        "----------------------------------------------------------------------"
      ]
    },
    {
      "cell_type": "markdown",
      "metadata": {
        "colab_type": "text",
        "id": "aCEg03EHSijf"
      },
      "source": [
        "<img src=\"images/bird_wtf.png\" width=\"550\" height=\"500\" align=\"center\"/>"
      ]
    },
    {
      "cell_type": "markdown",
      "metadata": {
        "colab_type": "raw",
        "id": "jTN-5iLaSijg"
      },
      "source": [
        "¿Ha hecho un backup? ¡¡¡No olvide guardar el Jupyter Notebook una vez realizado antes de su envío!!!"
      ]
    }
  ]
}