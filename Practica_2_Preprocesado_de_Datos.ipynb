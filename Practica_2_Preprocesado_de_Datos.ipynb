{
  "nbformat": 4,
  "nbformat_minor": 0,
  "metadata": {
    "kernelspec": {
      "display_name": "Python 3",
      "language": "python",
      "name": "python3"
    },
    "latex_envs": {
      "LaTeX_envs_menu_present": true,
      "autoclose": false,
      "autocomplete": true,
      "bibliofile": "biblio.bib",
      "cite_by": "apalike",
      "current_citInitial": 1,
      "eqLabelWithNumbers": true,
      "eqNumInitial": 1,
      "hotkeys": {
        "equation": "Ctrl-E",
        "itemize": "Ctrl-I"
      },
      "labels_anchors": false,
      "latex_user_defs": false,
      "report_style_numbering": false,
      "user_envs_cfg": false
    },
    "toc": {
      "base_numbering": 1,
      "nav_menu": {},
      "number_sections": true,
      "sideBar": true,
      "skip_h1_title": false,
      "title_cell": "Table of Contents",
      "title_sidebar": "Contents",
      "toc_cell": true,
      "toc_position": {},
      "toc_section_display": true,
      "toc_window_display": false
    },
    "colab": {
      "name": "Practica 2. Preprocesado de Datos.ipynb",
      "provenance": [],
      "include_colab_link": true
    }
  },
  "cells": [
    {
      "cell_type": "markdown",
      "metadata": {
        "id": "view-in-github",
        "colab_type": "text"
      },
      "source": [
        "<a href=\"https://colab.research.google.com/github/wilberj88/Diabetes/blob/master/Practica_2_Preprocesado_de_Datos.ipynb\" target=\"_parent\"><img src=\"https://colab.research.google.com/assets/colab-badge.svg\" alt=\"Open In Colab\"/></a>"
      ]
    },
    {
      "cell_type": "markdown",
      "metadata": {
        "toc": true,
        "id": "xsvuZMRgtRhZ",
        "colab_type": "text"
      },
      "source": [
        "<h1>Table of Contents<span class=\"tocSkip\"></span></h1>\n",
        "<div class=\"toc\"><ul class=\"toc-item\"><li><span><a href=\"#Práctica-No.-2.-Preprocesado-de-datos.\" data-toc-modified-id=\"Práctica-No.-2.-Preprocesado-de-datos.-1\"><span class=\"toc-item-num\">1&nbsp;&nbsp;</span>Práctica No. 2. Preprocesado de datos.</a></span><ul class=\"toc-item\"><li><span><a href=\"#Finalidad-de-la-práctica\" data-toc-modified-id=\"Finalidad-de-la-práctica-1.1\"><span class=\"toc-item-num\">1.1&nbsp;&nbsp;</span>Finalidad de la práctica</a></span></li><li><span><a href=\"#Característiscticas-del-dataset-usado\" data-toc-modified-id=\"Característiscticas-del-dataset-usado-1.2\"><span class=\"toc-item-num\">1.2&nbsp;&nbsp;</span>Característiscticas del dataset usado</a></span></li><li><span><a href=\"#Importación-del-dataset\" data-toc-modified-id=\"Importación-del-dataset-1.3\"><span class=\"toc-item-num\">1.3&nbsp;&nbsp;</span>Importación del dataset</a></span><ul class=\"toc-item\"><li><span><a href=\"#Primera-pregunta-(1-punto)\" data-toc-modified-id=\"Primera-pregunta-(1-punto)-1.3.1\"><span class=\"toc-item-num\">1.3.1&nbsp;&nbsp;</span>Primera pregunta (1 punto)</a></span></li><li><span><a href=\"#Por-lo-visto-en-el-dataset-anterior,-para--un-caso-de-regresión-logística-en-aprendizaje-supervisado,-¿qué-columnas-son-las-variables-que-podríamos-usar-para-realizar-la-clasificación-y-cuál-es-la-columna-que-indica-la-etiqueta-a-la-que-se-debe-apuntar?-Por-favor,-indíquelas.\" data-toc-modified-id=\"Por-lo-visto-en-el-dataset-anterior,-para--un-caso-de-regresión-logística-en-aprendizaje-supervisado,-¿qué-columnas-son-las-variables-que-podríamos-usar-para-realizar-la-clasificación-y-cuál-es-la-columna-que-indica-la-etiqueta-a-la-que-se-debe-apuntar?-Por-favor,-indíquelas.-1.3.2\"><span class=\"toc-item-num\">1.3.2&nbsp;&nbsp;</span>Por lo visto en el dataset anterior, para  un caso de regresión logística en aprendizaje supervisado, ¿qué columnas son las variables que podríamos usar para realizar la clasificación y cuál es la columna que indica la etiqueta a la que se debe apuntar? Por favor, indíquelas.</a></span></li><li><span><a href=\"#Segunda-pregunta-(1-punto)\" data-toc-modified-id=\"Segunda-pregunta-(1-punto)-1.3.3\"><span class=\"toc-item-num\">1.3.3&nbsp;&nbsp;</span>Segunda pregunta (1 punto)</a></span></li><li><span><a href=\"#Haciendo-uso-de-la-función-de-pandas-isnull().sum(),-compruebe-si-hay-missing_values-en-el-dataset-facilitado.\" data-toc-modified-id=\"Haciendo-uso-de-la-función-de-pandas-isnull().sum(),-compruebe-si-hay-missing_values-en-el-dataset-facilitado.-1.3.4\"><span class=\"toc-item-num\">1.3.4&nbsp;&nbsp;</span>Haciendo uso de la función de pandas <code>isnull().sum()</code>, compruebe si hay <code>missing_values</code> en el dataset facilitado.</a></span></li><li><span><a href=\"#Visualización-de-datos\" data-toc-modified-id=\"Visualización-de-datos-1.3.5\"><span class=\"toc-item-num\">1.3.5&nbsp;&nbsp;</span>Visualización de datos</a></span></li><li><span><a href=\"#Tercera-pregunta-(2-puntos)\" data-toc-modified-id=\"Tercera-pregunta-(2-puntos)-1.3.6\"><span class=\"toc-item-num\">1.3.6&nbsp;&nbsp;</span>Tercera pregunta (2 puntos)</a></span></li><li><span><a href=\"#a)-Haciendo-uso-de-df.hist(),-ejecute-las-siguientes-líneas-de-código.-(0.5-puntos)\" data-toc-modified-id=\"a)-Haciendo-uso-de-df.hist(),-ejecute-las-siguientes-líneas-de-código.-(0.5-puntos)-1.3.7\"><span class=\"toc-item-num\">1.3.7&nbsp;&nbsp;</span>a) Haciendo uso de <code>df.hist()</code>, ejecute las siguientes líneas de código. (0.5 puntos)</a></span></li><li><span><a href=\"#b)-Vemos-que-hay-algunas-características-del-dataset-que-tienen-un-valor-mínimo-sin-ningún-sentido-lógico.-¿Qué-características-o-variables-considera-que-habría-que-modificar-para-eliminar-esos-registros-nulos-que-carecen-de-sentido?-(0.5-puntos)\" data-toc-modified-id=\"b)-Vemos-que-hay-algunas-características-del-dataset-que-tienen-un-valor-mínimo-sin-ningún-sentido-lógico.-¿Qué-características-o-variables-considera-que-habría-que-modificar-para-eliminar-esos-registros-nulos-que-carecen-de-sentido?-(0.5-puntos)-1.3.8\"><span class=\"toc-item-num\">1.3.8&nbsp;&nbsp;</span>b) Vemos que hay algunas características del dataset que tienen un valor mínimo sin ningún sentido lógico. ¿Qué características o variables considera que habría que modificar para eliminar esos registros nulos que carecen de sentido? (0.5 puntos)</a></span></li><li><span><a href=\"#c)-¿Cuál-es-la-relación-$\\Gamma-=-\\frac{diabeticos}{\\neg-diabeticos}$?-¿Está-nuestro-dataset-balanceado?-Si-es-así,-justificar.-De-lo-contrario,-indicar-qué-clase-está-subrepresentada.-(0.5-puntos)\" data-toc-modified-id=\"c)-¿Cuál-es-la-relación-$\\Gamma-=-\\frac{diabeticos}{\\neg-diabeticos}$?-¿Está-nuestro-dataset-balanceado?-Si-es-así,-justificar.-De-lo-contrario,-indicar-qué-clase-está-subrepresentada.-(0.5-puntos)-1.3.9\"><span class=\"toc-item-num\">1.3.9&nbsp;&nbsp;</span>c) ¿Cuál es la relación $\\Gamma = \\frac{diabeticos}{\\neg diabeticos}$? ¿Está nuestro dataset balanceado? Si es así, justificar. De lo contrario, indicar qué clase está subrepresentada. (0.5 puntos)</a></span></li><li><span><a href=\"#d)-¿Qué-alternativas-de-actuación-sobre-el-dataset-propone-para-compensar-la-posible-subrepresentación-de-una-clase?-(0.5-puntos)\" data-toc-modified-id=\"d)-¿Qué-alternativas-de-actuación-sobre-el-dataset-propone-para-compensar-la-posible-subrepresentación-de-una-clase?-(0.5-puntos)-1.3.10\"><span class=\"toc-item-num\">1.3.10&nbsp;&nbsp;</span>d) ¿Qué alternativas de actuación sobre el dataset propone para compensar la posible subrepresentación de una clase? (0.5 puntos)</a></span></li></ul></li><li><span><a href=\"#Limpieza-y-procesado-de-datos\" data-toc-modified-id=\"Limpieza-y-procesado-de-datos-1.4\"><span class=\"toc-item-num\">1.4&nbsp;&nbsp;</span>Limpieza y procesado de datos</a></span><ul class=\"toc-item\"><li><span><a href=\"#Cuarta-pregunta-(1-puntos)\" data-toc-modified-id=\"Cuarta-pregunta-(1-puntos)-1.4.1\"><span class=\"toc-item-num\">1.4.1&nbsp;&nbsp;</span>Cuarta pregunta (1 puntos)</a></span></li><li><span><a href=\"#¿Cuál-es-el-porcentaje-de-datos-nulos-de-insulina-en-el-dataset-(en-la-columna-insuline)?-¿Ve-conveniente-eliminar-todas-aquellas-filas-donde-nos-falte-alguna-variable?-Justifique-su-respuesta.\" data-toc-modified-id=\"¿Cuál-es-el-porcentaje-de-datos-nulos-de-insulina-en-el-dataset-(en-la-columna-insuline)?-¿Ve-conveniente-eliminar-todas-aquellas-filas-donde-nos-falte-alguna-variable?-Justifique-su-respuesta.-1.4.2\"><span class=\"toc-item-num\">1.4.2&nbsp;&nbsp;</span>¿Cuál es el porcentaje de datos nulos de insulina en el dataset (en la columna <code>insuline</code>)? ¿Ve conveniente eliminar todas aquellas filas donde nos falte alguna variable? Justifique su respuesta.</a></span></li><li><span><a href=\"#Quinta-pregunta-(1-puntos)\" data-toc-modified-id=\"Quinta-pregunta-(1-puntos)-1.4.3\"><span class=\"toc-item-num\">1.4.3&nbsp;&nbsp;</span>Quinta pregunta (1 puntos)</a></span></li><li><span><a href=\"#a)-Realice-la-sustitución-indicada-arriba-por-la-mediana-en-todas-aquellas-variables-que-considere-que-contienen-valores-sin-sentido-(en-relación-con-la-pregunta-3.b.)-(5-puntos)\" data-toc-modified-id=\"a)-Realice-la-sustitución-indicada-arriba-por-la-mediana-en-todas-aquellas-variables-que-considere-que-contienen-valores-sin-sentido-(en-relación-con-la-pregunta-3.b.)-(5-puntos)-1.4.4\"><span class=\"toc-item-num\">1.4.4&nbsp;&nbsp;</span>a) Realice la sustitución indicada arriba por la mediana en todas aquellas variables que considere que contienen valores sin sentido (en relación con la pregunta 3.b.) (5 puntos)</a></span></li><li><span><a href=\"#b)-Vuelva-a-ejecutar-el-comando-diabetes.describe().-¿Cuál-es-la-única-variable-que-debe-tener-como-valor-mínimo-$0$-tras-haber-hecho-la-sustitución-de-los-valores-nulos-por-su-mediana?-(0,5-puntos)\" data-toc-modified-id=\"b)-Vuelva-a-ejecutar-el-comando-diabetes.describe().-¿Cuál-es-la-única-variable-que-debe-tener-como-valor-mínimo-$0$-tras-haber-hecho-la-sustitución-de-los-valores-nulos-por-su-mediana?-(0,5-puntos)-1.4.5\"><span class=\"toc-item-num\">1.4.5&nbsp;&nbsp;</span>b) Vuelva a ejecutar el comando <code>diabetes.describe()</code>. ¿Cuál es la única variable que debe tener como valor mínimo $0$ tras haber hecho la sustitución de los valores nulos por su mediana? (0,5 puntos)</a></span></li><li><span><a href=\"#Escalado-del-dataset\" data-toc-modified-id=\"Escalado-del-dataset-1.4.6\"><span class=\"toc-item-num\">1.4.6&nbsp;&nbsp;</span>Escalado del dataset</a></span></li><li><span><a href=\"#Sexta-pregunta-(2-puntos)\" data-toc-modified-id=\"Sexta-pregunta-(2-puntos)-1.4.7\"><span class=\"toc-item-num\">1.4.7&nbsp;&nbsp;</span>Sexta pregunta (2 puntos)</a></span></li><li><span><a href=\"#a)-Escale-las-caracteríticas-del-dataset-que-considere-necesarias-entre-0-y-1-para-su-posterior-uso-en-una-regresión-logítica-binaria.-(1-puntos)\" data-toc-modified-id=\"a)-Escale-las-caracteríticas-del-dataset-que-considere-necesarias-entre-0-y-1-para-su-posterior-uso-en-una-regresión-logítica-binaria.-(1-puntos)-1.4.8\"><span class=\"toc-item-num\">1.4.8&nbsp;&nbsp;</span>a) Escale las caracteríticas del dataset que considere necesarias entre <code>0</code> y <code>1</code> para su posterior uso en una regresión logítica binaria. (1 puntos)</a></span><ul class=\"toc-item\"><li><span><a href=\"#Pista:-para-hacerlo-rápidamente,-puede-definir-una-lista-cols_to_norm-con-las-columnas-a-normalizar-e-incluir-la-función-a-usar-en-el-escalado-e-iterar-en-bucle:\" data-toc-modified-id=\"Pista:-para-hacerlo-rápidamente,-puede-definir-una-lista-cols_to_norm-con-las-columnas-a-normalizar-e-incluir-la-función-a-usar-en-el-escalado-e-iterar-en-bucle:-1.4.8.1\"><span class=\"toc-item-num\">1.4.8.1&nbsp;&nbsp;</span>Pista: para hacerlo rápidamente, puede definir una lista <code>cols_to_norm</code> con las columnas a normalizar e incluir la función a usar en el escalado e iterar en bucle:</a></span></li></ul></li><li><span><a href=\"#b)-¿Qué-destacaría-en-las-dos-tablas-anteriores?¿Cómo-han-cambiado-los-intervalos-en-los-que-las-características-están-distribuidas?-(0,5-puntos)\" data-toc-modified-id=\"b)-¿Qué-destacaría-en-las-dos-tablas-anteriores?¿Cómo-han-cambiado-los-intervalos-en-los-que-las-características-están-distribuidas?-(0,5-puntos)-1.4.9\"><span class=\"toc-item-num\">1.4.9&nbsp;&nbsp;</span>b) ¿Qué destacaría en las dos tablas anteriores?¿Cómo han cambiado los intervalos en los que las características están distribuidas? (0,5 puntos)</a></span></li><li><span><a href=\"#c)-¿Qué-otro-tipo-de-normalización-aplicaría-a-las-características-de-nuestro-dataset?-Impleméntela-debajo-y-justifique-su-elección.-(0,5-puntos)\" data-toc-modified-id=\"c)-¿Qué-otro-tipo-de-normalización-aplicaría-a-las-características-de-nuestro-dataset?-Impleméntela-debajo-y-justifique-su-elección.-(0,5-puntos)-1.4.10\"><span class=\"toc-item-num\">1.4.10&nbsp;&nbsp;</span>c) ¿Qué otro tipo de normalización aplicaría a las características de nuestro dataset? Impleméntela debajo y justifique su elección. (0,5 puntos)</a></span></li><li><span><a href=\"#Matriz-de-correlación\" data-toc-modified-id=\"Matriz-de-correlación-1.4.11\"><span class=\"toc-item-num\">1.4.11&nbsp;&nbsp;</span>Matriz de correlación</a></span></li><li><span><a href=\"#Séptima-pregunta-(1-punto)\" data-toc-modified-id=\"Séptima-pregunta-(1-punto)-1.4.12\"><span class=\"toc-item-num\">1.4.12&nbsp;&nbsp;</span>Séptima pregunta (1 punto)</a></span></li><li><span><a href=\"#Indique,-de-mayor-a-menor-correlación,-las-variables-que-guardan-una-mayor-correlación-con-la-clase.-¿Tiene-sentido-que-las-tres-primeras-variables-con-mayor-correlación-se-identifiquen-con-una-mayor-probabilidad-de-sufrir-diabetes-de-tipo-2?-Justifique-su-respuesta.\" data-toc-modified-id=\"Indique,-de-mayor-a-menor-correlación,-las-variables-que-guardan-una-mayor-correlación-con-la-clase.-¿Tiene-sentido-que-las-tres-primeras-variables-con-mayor-correlación-se-identifiquen-con-una-mayor-probabilidad-de-sufrir-diabetes-de-tipo-2?-Justifique-su-respuesta.-1.4.13\"><span class=\"toc-item-num\">1.4.13&nbsp;&nbsp;</span>Indique, de mayor a menor correlación, las variables que guardan una mayor correlación con la clase. ¿Tiene sentido que las tres primeras variables con mayor correlación se identifiquen con una mayor probabilidad de sufrir diabetes de tipo 2? Justifique su respuesta.</a></span></li></ul></li><li><span><a href=\"#Entrenando-un-modelo-de-Regresión-Logística-para-el-dataset\" data-toc-modified-id=\"Entrenando-un-modelo-de-Regresión-Logística-para-el-dataset-1.5\"><span class=\"toc-item-num\">1.5&nbsp;&nbsp;</span>Entrenando un modelo de Regresión Logística para el dataset</a></span><ul class=\"toc-item\"><li><span><a href=\"#Partición-del-dataset-en-train-test-y-test-set\" data-toc-modified-id=\"Partición-del-dataset-en-train-test-y-test-set-1.5.1\"><span class=\"toc-item-num\">1.5.1&nbsp;&nbsp;</span>Partición del dataset en train test y test set</a></span></li><li><span><a href=\"#Octava-pregunta-(1-punto)\" data-toc-modified-id=\"Octava-pregunta-(1-punto)-1.5.2\"><span class=\"toc-item-num\">1.5.2&nbsp;&nbsp;</span>Octava pregunta (1 punto)</a></span></li><li><span><a href=\"#Este-ajuste-se-ha-realizado-con-los-datos-escalados-entre-$0$-y-$1$.\" data-toc-modified-id=\"Este-ajuste-se-ha-realizado-con-los-datos-escalados-entre-$0$-y-$1$.-1.5.3\"><span class=\"toc-item-num\">1.5.3&nbsp;&nbsp;</span>Este ajuste se ha realizado con los datos escalados entre $0$ y $1$.</a></span></li><li><span><a href=\"#a)-Repita-este-ajuste-con-los-datos-no-escalados-(es-decir,-con-el-dataset-original)-(0,4-puntos)\" data-toc-modified-id=\"a)-Repita-este-ajuste-con-los-datos-no-escalados-(es-decir,-con-el-dataset-original)-(0,4-puntos)-1.5.4\"><span class=\"toc-item-num\">1.5.4&nbsp;&nbsp;</span>a) Repita este ajuste con los datos no escalados (es decir, con el dataset original) (0,4 puntos)</a></span></li><li><span><a href=\"#b)-Repita-este-ajuste-con-los-datos-normalizados-con-$\\mu-=-0$-y-$\\sigma-=-1$.-(0,3-puntos)\" data-toc-modified-id=\"b)-Repita-este-ajuste-con-los-datos-normalizados-con-$\\mu-=-0$-y-$\\sigma-=-1$.-(0,3-puntos)-1.5.5\"><span class=\"toc-item-num\">1.5.5&nbsp;&nbsp;</span>b) Repita este ajuste con los datos normalizados con $\\mu = 0$ y $\\sigma = 1$. (0,3 puntos)</a></span></li><li><span><a href=\"#c)-¿Observa-una-mejora-sustancial-en-alguno-de-los-casos-o-un-empeoramiento?-Justifique-su-respuesta.-(0,3-puntos)\" data-toc-modified-id=\"c)-¿Observa-una-mejora-sustancial-en-alguno-de-los-casos-o-un-empeoramiento?-Justifique-su-respuesta.-(0,3-puntos)-1.5.6\"><span class=\"toc-item-num\">1.5.6&nbsp;&nbsp;</span>c) ¿Observa una mejora sustancial en alguno de los casos o un empeoramiento? Justifique su respuesta. (0,3 puntos)</a></span></li></ul></li></ul></li></ul></div>"
      ]
    },
    {
      "cell_type": "markdown",
      "metadata": {
        "collapsed": true,
        "id": "pWYbZjCetRha",
        "colab_type": "text"
      },
      "source": [
        "# Práctica No. 2. Preprocesado de datos."
      ]
    },
    {
      "cell_type": "markdown",
      "metadata": {
        "id": "GAU7RF-_tRhb",
        "colab_type": "text"
      },
      "source": [
        "Esta práctica constituye la segunda del módulo **Fundamentos de Machine Learning y Redes Neuronales** dentro del **Programa Executive en Artificial Intelligence** de **ThreePoints** dedicada al preprocesado de datos de acuerdo a lo especificado en la Unidad 2 del módulo."
      ]
    },
    {
      "cell_type": "markdown",
      "metadata": {
        "id": "Hfv6BAO-tRhb",
        "colab_type": "text"
      },
      "source": [
        "## Finalidad de la práctica"
      ]
    },
    {
      "cell_type": "markdown",
      "metadata": {
        "id": "3tOlfIMhtRhc",
        "colab_type": "text"
      },
      "source": [
        "Dado el data set *Pima Indians Diabetes Database*, donde se tiene un registro de personas afectadas por Diabetes tipo 2 en función de otras muchas variables, se busca:\n",
        "* **Familiarizarnos con las técnicas de importación** de datos a través de la librería [`pandas`](https://pandas.pydata.org/).\n",
        "* **Analizar** los datos haciendo uso de las librerías [`pandas`](https://pandas.pydata.org/), [`matplotlib`](https://matplotlib.org/) y [`seaborn`](https://seaborn.pydata.org/).\n",
        "* **Sacar la mayor cantidad de conclusiones posibles** de cara al posible entrenamiento de un modelo de Machine Learning\n",
        "* **Realizar transformaciones y normalizaciones requeridas**\n",
        "* **Mostrar un rápido ejemplo de regresión logística** con este dataset."
      ]
    },
    {
      "cell_type": "markdown",
      "metadata": {
        "id": "p2m1WS3ctRhc",
        "colab_type": "text"
      },
      "source": [
        "____\n",
        "## Característiscticas del dataset usado\n",
        "\n",
        "Se hace uso del fichero `pima-indians-diabetes.csv`, el cual presenta las siguinetes características:\n",
        "\n",
        "1. **Título**: Pima Indians Diabetes Database\n",
        "\n",
        "2. **Fuentes**:\n",
        "   (a) Original owners: National Institute of Diabetes and Digestive and\n",
        "                        Kidney Diseases\n",
        "   (b) Donor of database: Vincent Sigillito (vgs@aplcen.apl.jhu.edu)\n",
        "                          Research Center, RMI Group Leader\n",
        "                          Applied Physics Laboratory\n",
        "                          The Johns Hopkins University\n",
        "                          Johns Hopkins Road\n",
        "                          Laurel, MD 20707\n",
        "                          (301) 953-6231\n",
        "   (c) Date received: 9 May 1990\n",
        "   \n",
        "3. **Referencias**:\n",
        "       Smith,~J.~W., Everhart,~J.~E., Dickson,~W.~C., Knowler,~W.~C., \\&\n",
        "       Johannes,~R.~S. (1988). Using the ADAP learning algorithm to forecast\n",
        "       the onset of diabetes mellitus.  In {\\it Proceedings of the Symposium\n",
        "       on Computer Applications and Medical Care} (pp. 261--265).  IEEE\n",
        "       Computer Society Press.\n",
        "\n",
        "       The diagnostic, binary-valued variable investigated is whether the\n",
        "       patient shows signs of diabetes according to World Health Organization\n",
        "       criteria (i.e., if the 2 hour post-load plasma glucose was at least \n",
        "       200 mg/dl at any survey  examination or if found during routine medical\n",
        "       care).   The population lives near Phoenix, Arizona, USA.\n",
        "\n",
        "       Results: Their ADAP algorithm makes a real-valued prediction between\n",
        "       0 and 1.  This was transformed into a binary decision using a cutoff of \n",
        "       0.448.  Using 576 training instances, the sensitivity and specificity\n",
        "       of their algorithm was 76% on the remaining 192 instances.\n",
        "\n",
        "4. **Información relevante**:\n",
        "\n",
        "      Several constraints were placed on the selection of these instances from\n",
        "      a larger database.  In particular, all patients here are females at\n",
        "      least 21 years old of Pima Indian heritage.  ADAP is an adaptive learning\n",
        "      routine that generates and executes digital analogs of perceptron-like\n",
        "      devices.  It is a unique algorithm; see the paper for details.\n",
        "      \n",
        "5. **Número de muestras**: 768\n",
        "\n",
        "6. **Número de características**: 8 + clase \n",
        "\n",
        "    7. Para cada característica: (**todas las variables son numéricas**)\n",
        "       1. Number of times pregnant\n",
        "       2. Plasma glucose concentration a 2 hours in an oral glucose tolerance test\n",
        "       3. Diastolic blood pressure (mm Hg)\n",
        "       4. Triceps skin fold thickness (mm)\n",
        "       5. 2-Hour serum insulin (mu U/ml)\n",
        "       6. Body mass index (weight in kg/(height in m)^2)\n",
        "       7. Diabetes pedigree function\n",
        "       8. Age (years)\n",
        "       9. Class variable (0 or 1)\n",
        "       \n",
        "7. **Missing Attribute Values**: Yes"
      ]
    },
    {
      "cell_type": "markdown",
      "metadata": {
        "id": "oUfi02egtRhd",
        "colab_type": "text"
      },
      "source": [
        "Los **akimel o'odham** o **pima** son un grupo indígena que vive en el estado de Arizona (Estados Unidos) y en el estado mexicano en Sonora y Chihuahua. Su nombre significa \"pueblo del río\", que los distingue de sus parientes los \"pápagos\" (la gente del desierto). Se puede encontrar más informacién en [este enlace](https://www.ncbi.nlm.nih.gov/pmc/articles/PMC4418458/). "
      ]
    },
    {
      "cell_type": "code",
      "metadata": {
        "id": "go3gz7kztRhe",
        "colab_type": "code",
        "colab": {}
      },
      "source": [
        "from IPython.core.display import HTML"
      ],
      "execution_count": 1,
      "outputs": []
    },
    {
      "cell_type": "markdown",
      "metadata": {
        "id": "Zt-DBc0RtRhh",
        "colab_type": "text"
      },
      "source": [
        "<img src=\"images/pima.jpg\" width=\"400\" height=\"400\" align=\"left\"/>\n",
        "<img src=\"images/pima-location.jpg\" width=\"400\" height=\"400\" align=\"right\"/>"
      ]
    },
    {
      "cell_type": "markdown",
      "metadata": {
        "id": "McrOIplutRhi",
        "colab_type": "raw"
      },
      "source": [
        "Fotografías de miembros del pueblo Pima y Territorio ca. 1700"
      ]
    },
    {
      "cell_type": "markdown",
      "metadata": {
        "id": "DJwac2gotRhj",
        "colab_type": "text"
      },
      "source": [
        "-----------------------------"
      ]
    },
    {
      "cell_type": "markdown",
      "metadata": {
        "id": "Fim8RdXotRhk",
        "colab_type": "text"
      },
      "source": [
        "## Importación del dataset"
      ]
    },
    {
      "cell_type": "markdown",
      "metadata": {
        "id": "b4fcbPWLtRhk",
        "colab_type": "text"
      },
      "source": [
        "Comencemos importando las librerías que vamos a necesitar en esta parte de la práctica:"
      ]
    },
    {
      "cell_type": "code",
      "metadata": {
        "id": "5VfSCBKntRhl",
        "colab_type": "code",
        "colab": {}
      },
      "source": [
        "import pandas as pd"
      ],
      "execution_count": 2,
      "outputs": []
    },
    {
      "cell_type": "code",
      "metadata": {
        "id": "QvIl-MAdtRho",
        "colab_type": "code",
        "colab": {}
      },
      "source": [
        "import numpy as np"
      ],
      "execution_count": 4,
      "outputs": []
    },
    {
      "cell_type": "markdown",
      "metadata": {
        "id": "pMtQ_1mltRhw",
        "colab_type": "text"
      },
      "source": [
        "Cargamos los datos desde el fichero `pima-indians-diabetes.csv`."
      ]
    },
    {
      "cell_type": "code",
      "metadata": {
        "id": "-TX5v3FrtRhw",
        "colab_type": "code",
        "colab": {}
      },
      "source": [
        "diabetes = pd.read_csv('https://raw.githubusercontent.com/wilberj88/Diabetes/master/pima-indians-diabetes.csv', \n",
        "                       names=['Num_pregnant', 'Gluc_concent',\n",
        "                             'Blood_press', 'Triceps', 'Insulin', 'BMI',\n",
        "                             'Pedigree', 'Age', 'Diagnosis'])"
      ],
      "execution_count": 7,
      "outputs": []
    },
    {
      "cell_type": "code",
      "metadata": {
        "scrolled": false,
        "id": "h1KAV1bytRh2",
        "colab_type": "code",
        "colab": {
          "base_uri": "https://localhost:8080/",
          "height": 71
        },
        "outputId": "c4f16261-dd91-45ff-9d9e-2dfd80c4ea63"
      },
      "source": [
        "diabetes.columns"
      ],
      "execution_count": 8,
      "outputs": [
        {
          "output_type": "execute_result",
          "data": {
            "text/plain": [
              "Index(['Num_pregnant', 'Gluc_concent', 'Blood_press', 'Triceps', 'Insulin',\n",
              "       'BMI', 'Pedigree', 'Age', 'Diagnosis'],\n",
              "      dtype='object')"
            ]
          },
          "metadata": {
            "tags": []
          },
          "execution_count": 8
        }
      ]
    },
    {
      "cell_type": "markdown",
      "metadata": {
        "id": "7Wv09HRTtRh5",
        "colab_type": "text"
      },
      "source": [
        "Con la función `head` somos capaces de echarle un vistazo rápido a los valores del dataset. "
      ]
    },
    {
      "cell_type": "code",
      "metadata": {
        "scrolled": true,
        "id": "dL6LkDU0tRh5",
        "colab_type": "code",
        "colab": {
          "base_uri": "https://localhost:8080/",
          "height": 359
        },
        "outputId": "36911893-ff88-4f0d-f47a-36fe5a392959"
      },
      "source": [
        "diabetes.head(n=10)"
      ],
      "execution_count": 9,
      "outputs": [
        {
          "output_type": "execute_result",
          "data": {
            "text/html": [
              "<div>\n",
              "<style scoped>\n",
              "    .dataframe tbody tr th:only-of-type {\n",
              "        vertical-align: middle;\n",
              "    }\n",
              "\n",
              "    .dataframe tbody tr th {\n",
              "        vertical-align: top;\n",
              "    }\n",
              "\n",
              "    .dataframe thead th {\n",
              "        text-align: right;\n",
              "    }\n",
              "</style>\n",
              "<table border=\"1\" class=\"dataframe\">\n",
              "  <thead>\n",
              "    <tr style=\"text-align: right;\">\n",
              "      <th></th>\n",
              "      <th>Num_pregnant</th>\n",
              "      <th>Gluc_concent</th>\n",
              "      <th>Blood_press</th>\n",
              "      <th>Triceps</th>\n",
              "      <th>Insulin</th>\n",
              "      <th>BMI</th>\n",
              "      <th>Pedigree</th>\n",
              "      <th>Age</th>\n",
              "      <th>Diagnosis</th>\n",
              "    </tr>\n",
              "  </thead>\n",
              "  <tbody>\n",
              "    <tr>\n",
              "      <th>0</th>\n",
              "      <td>6</td>\n",
              "      <td>148</td>\n",
              "      <td>72</td>\n",
              "      <td>35</td>\n",
              "      <td>0</td>\n",
              "      <td>33.6</td>\n",
              "      <td>0.627</td>\n",
              "      <td>50</td>\n",
              "      <td>1</td>\n",
              "    </tr>\n",
              "    <tr>\n",
              "      <th>1</th>\n",
              "      <td>1</td>\n",
              "      <td>85</td>\n",
              "      <td>66</td>\n",
              "      <td>29</td>\n",
              "      <td>0</td>\n",
              "      <td>26.6</td>\n",
              "      <td>0.351</td>\n",
              "      <td>31</td>\n",
              "      <td>0</td>\n",
              "    </tr>\n",
              "    <tr>\n",
              "      <th>2</th>\n",
              "      <td>8</td>\n",
              "      <td>183</td>\n",
              "      <td>64</td>\n",
              "      <td>0</td>\n",
              "      <td>0</td>\n",
              "      <td>23.3</td>\n",
              "      <td>0.672</td>\n",
              "      <td>32</td>\n",
              "      <td>1</td>\n",
              "    </tr>\n",
              "    <tr>\n",
              "      <th>3</th>\n",
              "      <td>1</td>\n",
              "      <td>89</td>\n",
              "      <td>66</td>\n",
              "      <td>23</td>\n",
              "      <td>94</td>\n",
              "      <td>28.1</td>\n",
              "      <td>0.167</td>\n",
              "      <td>21</td>\n",
              "      <td>0</td>\n",
              "    </tr>\n",
              "    <tr>\n",
              "      <th>4</th>\n",
              "      <td>0</td>\n",
              "      <td>137</td>\n",
              "      <td>40</td>\n",
              "      <td>35</td>\n",
              "      <td>168</td>\n",
              "      <td>43.1</td>\n",
              "      <td>2.288</td>\n",
              "      <td>33</td>\n",
              "      <td>1</td>\n",
              "    </tr>\n",
              "    <tr>\n",
              "      <th>5</th>\n",
              "      <td>5</td>\n",
              "      <td>116</td>\n",
              "      <td>74</td>\n",
              "      <td>0</td>\n",
              "      <td>0</td>\n",
              "      <td>25.6</td>\n",
              "      <td>0.201</td>\n",
              "      <td>30</td>\n",
              "      <td>0</td>\n",
              "    </tr>\n",
              "    <tr>\n",
              "      <th>6</th>\n",
              "      <td>3</td>\n",
              "      <td>78</td>\n",
              "      <td>50</td>\n",
              "      <td>32</td>\n",
              "      <td>88</td>\n",
              "      <td>31.0</td>\n",
              "      <td>0.248</td>\n",
              "      <td>26</td>\n",
              "      <td>1</td>\n",
              "    </tr>\n",
              "    <tr>\n",
              "      <th>7</th>\n",
              "      <td>10</td>\n",
              "      <td>115</td>\n",
              "      <td>0</td>\n",
              "      <td>0</td>\n",
              "      <td>0</td>\n",
              "      <td>35.3</td>\n",
              "      <td>0.134</td>\n",
              "      <td>29</td>\n",
              "      <td>0</td>\n",
              "    </tr>\n",
              "    <tr>\n",
              "      <th>8</th>\n",
              "      <td>2</td>\n",
              "      <td>197</td>\n",
              "      <td>70</td>\n",
              "      <td>45</td>\n",
              "      <td>543</td>\n",
              "      <td>30.5</td>\n",
              "      <td>0.158</td>\n",
              "      <td>53</td>\n",
              "      <td>1</td>\n",
              "    </tr>\n",
              "    <tr>\n",
              "      <th>9</th>\n",
              "      <td>8</td>\n",
              "      <td>125</td>\n",
              "      <td>96</td>\n",
              "      <td>0</td>\n",
              "      <td>0</td>\n",
              "      <td>0.0</td>\n",
              "      <td>0.232</td>\n",
              "      <td>54</td>\n",
              "      <td>1</td>\n",
              "    </tr>\n",
              "  </tbody>\n",
              "</table>\n",
              "</div>"
            ],
            "text/plain": [
              "   Num_pregnant  Gluc_concent  Blood_press  ...  Pedigree  Age  Diagnosis\n",
              "0             6           148           72  ...     0.627   50          1\n",
              "1             1            85           66  ...     0.351   31          0\n",
              "2             8           183           64  ...     0.672   32          1\n",
              "3             1            89           66  ...     0.167   21          0\n",
              "4             0           137           40  ...     2.288   33          1\n",
              "5             5           116           74  ...     0.201   30          0\n",
              "6             3            78           50  ...     0.248   26          1\n",
              "7            10           115            0  ...     0.134   29          0\n",
              "8             2           197           70  ...     0.158   53          1\n",
              "9             8           125           96  ...     0.232   54          1\n",
              "\n",
              "[10 rows x 9 columns]"
            ]
          },
          "metadata": {
            "tags": []
          },
          "execution_count": 9
        }
      ]
    },
    {
      "cell_type": "markdown",
      "metadata": {
        "id": "1EIMPx1otRh8",
        "colab_type": "text"
      },
      "source": [
        "### Primera pregunta (1 punto) \n",
        "\n",
        "### Por lo visto en el dataset anterior, para  un caso de regresión logística en aprendizaje supervisado, ¿qué columnas son las variables que podríamos usar para realizar la clasificación y cuál es la columna que indica la etiqueta a la que se debe apuntar? Por favor, indíquelas."
      ]
    },
    {
      "cell_type": "code",
      "metadata": {
        "id": "bXmoob2CtRh9",
        "colab_type": "code",
        "colab": {}
      },
      "source": [
        "La etiqueta a la que debe apuntar es a la de diagnosis como variable dependiente y como variables independientes la concentración de glucosa en la sangre, la presión sanguínea y las demás características."
      ],
      "execution_count": null,
      "outputs": []
    },
    {
      "cell_type": "markdown",
      "metadata": {
        "id": "tvA3WYhwtRh_",
        "colab_type": "text"
      },
      "source": [
        "Los tipos de cada columna se pueden explorar de la siguiente manera:"
      ]
    },
    {
      "cell_type": "code",
      "metadata": {
        "id": "XARrHhwUtRiA",
        "colab_type": "code",
        "colab": {
          "base_uri": "https://localhost:8080/",
          "height": 197
        },
        "outputId": "44f689b8-fa63-4c67-a2a7-a6763e4d2cae"
      },
      "source": [
        "diabetes.dtypes"
      ],
      "execution_count": 10,
      "outputs": [
        {
          "output_type": "execute_result",
          "data": {
            "text/plain": [
              "Num_pregnant      int64\n",
              "Gluc_concent      int64\n",
              "Blood_press       int64\n",
              "Triceps           int64\n",
              "Insulin           int64\n",
              "BMI             float64\n",
              "Pedigree        float64\n",
              "Age               int64\n",
              "Diagnosis         int64\n",
              "dtype: object"
            ]
          },
          "metadata": {
            "tags": []
          },
          "execution_count": 10
        }
      ]
    },
    {
      "cell_type": "markdown",
      "metadata": {
        "id": "d8vf5XtZtRiC",
        "colab_type": "text"
      },
      "source": [
        "### Segunda pregunta (1 punto)\n",
        "\n",
        "### Haciendo uso de la función de pandas `isnull().sum()`, compruebe si hay `missing_values` en el dataset facilitado."
      ]
    },
    {
      "cell_type": "code",
      "metadata": {
        "id": "Myv1VPXatRiD",
        "colab_type": "code",
        "colab": {
          "base_uri": "https://localhost:8080/",
          "height": 197
        },
        "outputId": "02082836-9737-4744-8552-7b9886b15080"
      },
      "source": [
        "diabetes.sum()"
      ],
      "execution_count": 14,
      "outputs": [
        {
          "output_type": "execute_result",
          "data": {
            "text/plain": [
              "Num_pregnant     2953.000\n",
              "Gluc_concent    92847.000\n",
              "Blood_press     53073.000\n",
              "Triceps         15772.000\n",
              "Insulin         61286.000\n",
              "BMI             24570.300\n",
              "Pedigree          362.401\n",
              "Age             25529.000\n",
              "Diagnosis         268.000\n",
              "dtype: float64"
            ]
          },
          "metadata": {
            "tags": []
          },
          "execution_count": 14
        }
      ]
    },
    {
      "cell_type": "code",
      "metadata": {
        "id": "9tM6WfX_tRiG",
        "colab_type": "code",
        "colab": {
          "base_uri": "https://localhost:8080/",
          "height": 197
        },
        "outputId": "564a1372-7b09-4e12-83a3-ea097d8617f3"
      },
      "source": [
        "diabetes.isnull().sum()"
      ],
      "execution_count": 11,
      "outputs": [
        {
          "output_type": "execute_result",
          "data": {
            "text/plain": [
              "Num_pregnant    0\n",
              "Gluc_concent    0\n",
              "Blood_press     0\n",
              "Triceps         0\n",
              "Insulin         0\n",
              "BMI             0\n",
              "Pedigree        0\n",
              "Age             0\n",
              "Diagnosis       0\n",
              "dtype: int64"
            ]
          },
          "metadata": {
            "tags": []
          },
          "execution_count": 11
        }
      ]
    },
    {
      "cell_type": "code",
      "metadata": {
        "id": "-mbGe4gjtRiO",
        "colab_type": "code",
        "colab": {}
      },
      "source": [
        "En este dataset no hay missing_values"
      ],
      "execution_count": null,
      "outputs": []
    },
    {
      "cell_type": "markdown",
      "metadata": {
        "id": "RE5fna2XtRiQ",
        "colab_type": "text"
      },
      "source": [
        "### Visualización de datos"
      ]
    },
    {
      "cell_type": "markdown",
      "metadata": {
        "id": "9kQPSfwttRiQ",
        "colab_type": "text"
      },
      "source": [
        "### Tercera pregunta (2 puntos)\n",
        " \n",
        "### a) Haciendo uso de `df.hist()`, ejecute las siguientes líneas de código. (0.5 puntos)"
      ]
    },
    {
      "cell_type": "markdown",
      "metadata": {
        "id": "XpYkMprUtRiR",
        "colab_type": "raw"
      },
      "source": [
        "Puede que resulte necesario corre dos veces la siguiente línea de código dado lo pesado del gráfico."
      ]
    },
    {
      "cell_type": "code",
      "metadata": {
        "scrolled": false,
        "id": "hcUdrQn7tRiR",
        "colab_type": "code",
        "colab": {
          "base_uri": "https://localhost:8080/",
          "height": 879
        },
        "outputId": "9212e319-2e1e-4ad7-b081-ba3ea55cd4e0"
      },
      "source": [
        "import matplotlib.pyplot as plt\n",
        "diabetes.hist(bins = 50, figsize=(20, 15))\n",
        "plt.show()"
      ],
      "execution_count": 19,
      "outputs": [
        {
          "output_type": "display_data",
          "data": {
            "image/png": "[encoded data removed]",
            "text/plain": [
              "<Figure size 1440x1080 with 9 Axes>"
            ]
          },
          "metadata": {
            "tags": [],
            "needs_background": "light"
          }
        }
      ]
    },
    {
      "cell_type": "markdown",
      "metadata": {
        "id": "bydFni5ltRiU",
        "colab_type": "text"
      },
      "source": [
        "Se pueden obtener más detalles de nuestro dataset almacenados en `pandas` a través del comando `df.describe()`."
      ]
    },
    {
      "cell_type": "code",
      "metadata": {
        "scrolled": true,
        "id": "WeUzWd1RtRiU",
        "colab_type": "code",
        "colab": {
          "base_uri": "https://localhost:8080/",
          "height": 297
        },
        "outputId": "0b95523f-5357-45a6-dd3b-c48752a06e33"
      },
      "source": [
        "diabetes.describe()"
      ],
      "execution_count": 13,
      "outputs": [
        {
          "output_type": "execute_result",
          "data": {
            "text/html": [
              "<div>\n",
              "<style scoped>\n",
              "    .dataframe tbody tr th:only-of-type {\n",
              "        vertical-align: middle;\n",
              "    }\n",
              "\n",
              "    .dataframe tbody tr th {\n",
              "        vertical-align: top;\n",
              "    }\n",
              "\n",
              "    .dataframe thead th {\n",
              "        text-align: right;\n",
              "    }\n",
              "</style>\n",
              "<table border=\"1\" class=\"dataframe\">\n",
              "  <thead>\n",
              "    <tr style=\"text-align: right;\">\n",
              "      <th></th>\n",
              "      <th>Num_pregnant</th>\n",
              "      <th>Gluc_concent</th>\n",
              "      <th>Blood_press</th>\n",
              "      <th>Triceps</th>\n",
              "      <th>Insulin</th>\n",
              "      <th>BMI</th>\n",
              "      <th>Pedigree</th>\n",
              "      <th>Age</th>\n",
              "      <th>Diagnosis</th>\n",
              "    </tr>\n",
              "  </thead>\n",
              "  <tbody>\n",
              "    <tr>\n",
              "      <th>count</th>\n",
              "      <td>768.000000</td>\n",
              "      <td>768.000000</td>\n",
              "      <td>768.000000</td>\n",
              "      <td>768.000000</td>\n",
              "      <td>768.000000</td>\n",
              "      <td>768.000000</td>\n",
              "      <td>768.000000</td>\n",
              "      <td>768.000000</td>\n",
              "      <td>768.000000</td>\n",
              "    </tr>\n",
              "    <tr>\n",
              "      <th>mean</th>\n",
              "      <td>3.845052</td>\n",
              "      <td>120.894531</td>\n",
              "      <td>69.105469</td>\n",
              "      <td>20.536458</td>\n",
              "      <td>79.799479</td>\n",
              "      <td>31.992578</td>\n",
              "      <td>0.471876</td>\n",
              "      <td>33.240885</td>\n",
              "      <td>0.348958</td>\n",
              "    </tr>\n",
              "    <tr>\n",
              "      <th>std</th>\n",
              "      <td>3.369578</td>\n",
              "      <td>31.972618</td>\n",
              "      <td>19.355807</td>\n",
              "      <td>15.952218</td>\n",
              "      <td>115.244002</td>\n",
              "      <td>7.884160</td>\n",
              "      <td>0.331329</td>\n",
              "      <td>11.760232</td>\n",
              "      <td>0.476951</td>\n",
              "    </tr>\n",
              "    <tr>\n",
              "      <th>min</th>\n",
              "      <td>0.000000</td>\n",
              "      <td>0.000000</td>\n",
              "      <td>0.000000</td>\n",
              "      <td>0.000000</td>\n",
              "      <td>0.000000</td>\n",
              "      <td>0.000000</td>\n",
              "      <td>0.078000</td>\n",
              "      <td>21.000000</td>\n",
              "      <td>0.000000</td>\n",
              "    </tr>\n",
              "    <tr>\n",
              "      <th>25%</th>\n",
              "      <td>1.000000</td>\n",
              "      <td>99.000000</td>\n",
              "      <td>62.000000</td>\n",
              "      <td>0.000000</td>\n",
              "      <td>0.000000</td>\n",
              "      <td>27.300000</td>\n",
              "      <td>0.243750</td>\n",
              "      <td>24.000000</td>\n",
              "      <td>0.000000</td>\n",
              "    </tr>\n",
              "    <tr>\n",
              "      <th>50%</th>\n",
              "      <td>3.000000</td>\n",
              "      <td>117.000000</td>\n",
              "      <td>72.000000</td>\n",
              "      <td>23.000000</td>\n",
              "      <td>30.500000</td>\n",
              "      <td>32.000000</td>\n",
              "      <td>0.372500</td>\n",
              "      <td>29.000000</td>\n",
              "      <td>0.000000</td>\n",
              "    </tr>\n",
              "    <tr>\n",
              "      <th>75%</th>\n",
              "      <td>6.000000</td>\n",
              "      <td>140.250000</td>\n",
              "      <td>80.000000</td>\n",
              "      <td>32.000000</td>\n",
              "      <td>127.250000</td>\n",
              "      <td>36.600000</td>\n",
              "      <td>0.626250</td>\n",
              "      <td>41.000000</td>\n",
              "      <td>1.000000</td>\n",
              "    </tr>\n",
              "    <tr>\n",
              "      <th>max</th>\n",
              "      <td>17.000000</td>\n",
              "      <td>199.000000</td>\n",
              "      <td>122.000000</td>\n",
              "      <td>99.000000</td>\n",
              "      <td>846.000000</td>\n",
              "      <td>67.100000</td>\n",
              "      <td>2.420000</td>\n",
              "      <td>81.000000</td>\n",
              "      <td>1.000000</td>\n",
              "    </tr>\n",
              "  </tbody>\n",
              "</table>\n",
              "</div>"
            ],
            "text/plain": [
              "       Num_pregnant  Gluc_concent  ...         Age   Diagnosis\n",
              "count    768.000000    768.000000  ...  768.000000  768.000000\n",
              "mean       3.845052    120.894531  ...   33.240885    0.348958\n",
              "std        3.369578     31.972618  ...   11.760232    0.476951\n",
              "min        0.000000      0.000000  ...   21.000000    0.000000\n",
              "25%        1.000000     99.000000  ...   24.000000    0.000000\n",
              "50%        3.000000    117.000000  ...   29.000000    0.000000\n",
              "75%        6.000000    140.250000  ...   41.000000    1.000000\n",
              "max       17.000000    199.000000  ...   81.000000    1.000000\n",
              "\n",
              "[8 rows x 9 columns]"
            ]
          },
          "metadata": {
            "tags": []
          },
          "execution_count": 13
        }
      ]
    },
    {
      "cell_type": "markdown",
      "metadata": {
        "id": "rwLP32ljtRiX",
        "colab_type": "text"
      },
      "source": [
        "### b) Vemos que hay algunas características del dataset que tienen un valor mínimo sin ningún sentido lógico. ¿Qué características o variables considera que habría que modificar para eliminar esos registros nulos que carecen de sentido? (0.5 puntos)"
      ]
    },
    {
      "cell_type": "code",
      "metadata": {
        "id": "5wwBsl-wtRiY",
        "colab_type": "code",
        "colab": {}
      },
      "source": [
        "La variable de presión sanguínea, pues si tiene cero de presión está muerto el paciente. Lo que implicaría borrar alrededor de 35 registros"
      ],
      "execution_count": null,
      "outputs": []
    },
    {
      "cell_type": "markdown",
      "metadata": {
        "id": "_Ab5E5H7tRid",
        "colab_type": "text"
      },
      "source": [
        "### c) ¿Cuál es la relación $\\Gamma = \\frac{diabeticos}{\\neg diabeticos}$? ¿Está nuestro dataset balanceado? Si es así, justificar. De lo contrario, indicar qué clase está subrepresentada. (0.5 puntos)"
      ]
    },
    {
      "cell_type": "code",
      "metadata": {
        "id": "f-QDN_U4tRid",
        "colab_type": "code",
        "colab": {}
      },
      "source": [
        "Sí, se encuentra balanceado el dataset toda vez que de 768 muestras, 2/3 son negativos y 1/3 positivos."
      ],
      "execution_count": null,
      "outputs": []
    },
    {
      "cell_type": "markdown",
      "metadata": {
        "id": "Y6MQDz8_tRig",
        "colab_type": "text"
      },
      "source": [
        "### d) ¿Qué alternativas de actuación sobre el dataset propone para compensar la posible subrepresentación de una clase? (0.5 puntos)"
      ]
    },
    {
      "cell_type": "code",
      "metadata": {
        "id": "SIm2hCMRtRig",
        "colab_type": "code",
        "colab": {}
      },
      "source": [
        "Hacer composiciones del dataset balanceadas al 50% entre las muestras con la etiqueta y sin la etiqueta"
      ],
      "execution_count": null,
      "outputs": []
    },
    {
      "cell_type": "markdown",
      "metadata": {
        "id": "BaPxOprvtRij",
        "colab_type": "text"
      },
      "source": [
        "____\n",
        "## Limpieza y procesado de datos"
      ]
    },
    {
      "cell_type": "markdown",
      "metadata": {
        "id": "SHWaqK-MtRik",
        "colab_type": "text"
      },
      "source": [
        "Los algoritmos de Machine Learning no suelen funcionar muy bien cuando faltan datos en los mismos, ya sea por la presencia de `missing values` o por la presencia de $0s$, por lo que debemos encontrar una solución para mitigar estos efectos.\n",
        "\n"
      ]
    },
    {
      "cell_type": "markdown",
      "metadata": {
        "collapsed": true,
        "id": "o4btp3T8tRik",
        "colab_type": "raw"
      },
      "source": [
        ""
      ]
    },
    {
      "cell_type": "markdown",
      "metadata": {
        "id": "j4eo3bLBtRil",
        "colab_type": "text"
      },
      "source": [
        "### Cuarta pregunta (1 puntos)\n",
        "\n",
        "### ¿Cuál es el porcentaje de datos nulos de insulina en el dataset (en la columna `insuline`)? ¿Ve conveniente eliminar todas aquellas filas donde nos falte alguna variable? Justifique su respuesta."
      ]
    },
    {
      "cell_type": "code",
      "metadata": {
        "id": "bF0y1pBAtRim",
        "colab_type": "code",
        "colab": {}
      },
      "source": [
        "El porcentaje de datos nulos de insulina en el dataset es de 0%. Para este dataset no sería necesario eliminar variables o filas faltantes."
      ],
      "execution_count": null,
      "outputs": []
    },
    {
      "cell_type": "markdown",
      "metadata": {
        "id": "Q_zCxzOGtRio",
        "colab_type": "text"
      },
      "source": [
        "Una opción reside en calcular el valor mediano para una columna específica y sustituir ese valor en todas partes (en la misma columna) donde tenemos cero o nulo. (Pequeña ayuda para sustituir los ceros por la mediana de una columna)"
      ]
    },
    {
      "cell_type": "code",
      "metadata": {
        "id": "yKxW_T6GtRip",
        "colab_type": "code",
        "colab": {}
      },
      "source": [
        "median_var = diabetes['Insulin'].median()\n",
        "# Sustituimos los valores nulos del índice de una determinada variable por la mediana\n",
        "diabetes['Insulin'] = diabetes['Insulin'].replace(to_replace = 0, value = median_var)"
      ],
      "execution_count": 17,
      "outputs": []
    },
    {
      "cell_type": "code",
      "metadata": {
        "id": "jNSDqyb2tRis",
        "colab_type": "code",
        "colab": {
          "base_uri": "https://localhost:8080/",
          "height": 879
        },
        "outputId": "5c3bb8cd-93c8-459b-e7f9-8b2487538cdb"
      },
      "source": [
        "import matplotlib.pyplot as plt\n",
        "diabetes.hist(bins = 50, figsize=(20, 15))\n",
        "plt.show()"
      ],
      "execution_count": 20,
      "outputs": [
        {
          "output_type": "display_data",
          "data": {
            "image/png": "[encoded data removed]",
            "text/plain": [
              "<Figure size 1440x1080 with 9 Axes>"
            ]
          },
          "metadata": {
            "tags": [],
            "needs_background": "light"
          }
        }
      ]
    },
    {
      "cell_type": "markdown",
      "metadata": {
        "id": "W_m4hLNttRiu",
        "colab_type": "text"
      },
      "source": [
        "### Quinta pregunta (1 puntos)\n",
        "\n",
        "### a) Realice la sustitución indicada arriba por la mediana en todas aquellas variables que considere que contienen valores sin sentido (en relación con la pregunta 3.b.) (5 puntos)"
      ]
    },
    {
      "cell_type": "code",
      "metadata": {
        "id": "XhV02NjjtRiu",
        "colab_type": "code",
        "colab": {}
      },
      "source": [
        "median_var = diabetes['BMI'].median()\n",
        "# Sustituimos los valores nulos del índice de una determinada variable por la mediana\n",
        "diabetes['BMI'] = diabetes['BMI'].replace(to_replace = 0, value = median_var)\n",
        "\n",
        "median_var = diabetes['Gluc_concent'].median()\n",
        "# Sustituimos los valores nulos del índice de una determinada variable por la mediana\n",
        "diabetes['Gluc_concent'] = diabetes['Gluc_concent'].replace(to_replace = 0, value = median_var)\n",
        "\n",
        "median_var = diabetes['Blood_press'].median()\n",
        "# Sustituimos los valores nulos del índice de una determinada variable por la mediana\n",
        "diabetes['Blood_press'] = diabetes['Blood_press'].replace(to_replace = 0, value = median_var)\n",
        "\n",
        "median_var = diabetes['Insulin'].median()\n",
        "# Sustituimos los valores nulos del índice de una determinada variable por la mediana\n",
        "diabetes['Insulin'] = diabetes['Insulin'].replace(to_replace = 0, value = median_var)\n",
        "\n",
        "median_var = diabetes['Triceps'].median()\n",
        "# Sustituimos los valores nulos del índice de una determinada variable por la mediana\n",
        "diabetes['Triceps'] = diabetes['Triceps'].replace(to_replace = 0, value = median_var)\n"
      ],
      "execution_count": 29,
      "outputs": []
    },
    {
      "cell_type": "markdown",
      "metadata": {
        "id": "39vOJgOf9SOp",
        "colab_type": "text"
      },
      "source": [
        ""
      ]
    },
    {
      "cell_type": "markdown",
      "metadata": {
        "id": "C6C2CpGvtRix",
        "colab_type": "text"
      },
      "source": [
        "### b) Vuelva a ejecutar el comando `diabetes.describe()`. ¿Cuál es la única variable que debe tener como valor mínimo $0$ tras haber hecho la sustitución de los valores nulos por su mediana? (0,5 puntos)"
      ]
    },
    {
      "cell_type": "code",
      "metadata": {
        "id": "ZdVrfe5itRiz",
        "colab_type": "code",
        "colab": {
          "base_uri": "https://localhost:8080/",
          "height": 297
        },
        "outputId": "2225fb3b-28b0-4886-fcd7-9b7103ed4069"
      },
      "source": [
        "diabetes.describe()"
      ],
      "execution_count": 30,
      "outputs": [
        {
          "output_type": "execute_result",
          "data": {
            "text/html": [
              "<div>\n",
              "<style scoped>\n",
              "    .dataframe tbody tr th:only-of-type {\n",
              "        vertical-align: middle;\n",
              "    }\n",
              "\n",
              "    .dataframe tbody tr th {\n",
              "        vertical-align: top;\n",
              "    }\n",
              "\n",
              "    .dataframe thead th {\n",
              "        text-align: right;\n",
              "    }\n",
              "</style>\n",
              "<table border=\"1\" class=\"dataframe\">\n",
              "  <thead>\n",
              "    <tr style=\"text-align: right;\">\n",
              "      <th></th>\n",
              "      <th>Num_pregnant</th>\n",
              "      <th>Gluc_concent</th>\n",
              "      <th>Blood_press</th>\n",
              "      <th>Triceps</th>\n",
              "      <th>Insulin</th>\n",
              "      <th>BMI</th>\n",
              "      <th>Pedigree</th>\n",
              "      <th>Age</th>\n",
              "      <th>Diagnosis</th>\n",
              "    </tr>\n",
              "  </thead>\n",
              "  <tbody>\n",
              "    <tr>\n",
              "      <th>count</th>\n",
              "      <td>768.000000</td>\n",
              "      <td>768.000000</td>\n",
              "      <td>768.000000</td>\n",
              "      <td>768.000000</td>\n",
              "      <td>768.000000</td>\n",
              "      <td>768.000000</td>\n",
              "      <td>768.000000</td>\n",
              "      <td>768.000000</td>\n",
              "      <td>768.000000</td>\n",
              "    </tr>\n",
              "    <tr>\n",
              "      <th>mean</th>\n",
              "      <td>3.845052</td>\n",
              "      <td>121.656250</td>\n",
              "      <td>72.386719</td>\n",
              "      <td>27.334635</td>\n",
              "      <td>94.652344</td>\n",
              "      <td>32.450911</td>\n",
              "      <td>0.471876</td>\n",
              "      <td>33.240885</td>\n",
              "      <td>0.348958</td>\n",
              "    </tr>\n",
              "    <tr>\n",
              "      <th>std</th>\n",
              "      <td>3.369578</td>\n",
              "      <td>30.438286</td>\n",
              "      <td>12.096642</td>\n",
              "      <td>9.229014</td>\n",
              "      <td>105.547598</td>\n",
              "      <td>6.875366</td>\n",
              "      <td>0.331329</td>\n",
              "      <td>11.760232</td>\n",
              "      <td>0.476951</td>\n",
              "    </tr>\n",
              "    <tr>\n",
              "      <th>min</th>\n",
              "      <td>0.000000</td>\n",
              "      <td>44.000000</td>\n",
              "      <td>24.000000</td>\n",
              "      <td>7.000000</td>\n",
              "      <td>14.000000</td>\n",
              "      <td>18.200000</td>\n",
              "      <td>0.078000</td>\n",
              "      <td>21.000000</td>\n",
              "      <td>0.000000</td>\n",
              "    </tr>\n",
              "    <tr>\n",
              "      <th>25%</th>\n",
              "      <td>1.000000</td>\n",
              "      <td>99.750000</td>\n",
              "      <td>64.000000</td>\n",
              "      <td>23.000000</td>\n",
              "      <td>30.500000</td>\n",
              "      <td>27.500000</td>\n",
              "      <td>0.243750</td>\n",
              "      <td>24.000000</td>\n",
              "      <td>0.000000</td>\n",
              "    </tr>\n",
              "    <tr>\n",
              "      <th>50%</th>\n",
              "      <td>3.000000</td>\n",
              "      <td>117.000000</td>\n",
              "      <td>72.000000</td>\n",
              "      <td>23.000000</td>\n",
              "      <td>31.250000</td>\n",
              "      <td>32.000000</td>\n",
              "      <td>0.372500</td>\n",
              "      <td>29.000000</td>\n",
              "      <td>0.000000</td>\n",
              "    </tr>\n",
              "    <tr>\n",
              "      <th>75%</th>\n",
              "      <td>6.000000</td>\n",
              "      <td>140.250000</td>\n",
              "      <td>80.000000</td>\n",
              "      <td>32.000000</td>\n",
              "      <td>127.250000</td>\n",
              "      <td>36.600000</td>\n",
              "      <td>0.626250</td>\n",
              "      <td>41.000000</td>\n",
              "      <td>1.000000</td>\n",
              "    </tr>\n",
              "    <tr>\n",
              "      <th>max</th>\n",
              "      <td>17.000000</td>\n",
              "      <td>199.000000</td>\n",
              "      <td>122.000000</td>\n",
              "      <td>99.000000</td>\n",
              "      <td>846.000000</td>\n",
              "      <td>67.100000</td>\n",
              "      <td>2.420000</td>\n",
              "      <td>81.000000</td>\n",
              "      <td>1.000000</td>\n",
              "    </tr>\n",
              "  </tbody>\n",
              "</table>\n",
              "</div>"
            ],
            "text/plain": [
              "       Num_pregnant  Gluc_concent  ...         Age   Diagnosis\n",
              "count    768.000000    768.000000  ...  768.000000  768.000000\n",
              "mean       3.845052    121.656250  ...   33.240885    0.348958\n",
              "std        3.369578     30.438286  ...   11.760232    0.476951\n",
              "min        0.000000     44.000000  ...   21.000000    0.000000\n",
              "25%        1.000000     99.750000  ...   24.000000    0.000000\n",
              "50%        3.000000    117.000000  ...   29.000000    0.000000\n",
              "75%        6.000000    140.250000  ...   41.000000    1.000000\n",
              "max       17.000000    199.000000  ...   81.000000    1.000000\n",
              "\n",
              "[8 rows x 9 columns]"
            ]
          },
          "metadata": {
            "tags": []
          },
          "execution_count": 30
        }
      ]
    },
    {
      "cell_type": "markdown",
      "metadata": {
        "id": "d-fVRALDtRi1",
        "colab_type": "text"
      },
      "source": [
        "Vuelva a ejecutar el siguiento comando para la visualización de datos:"
      ]
    },
    {
      "cell_type": "code",
      "metadata": {
        "id": "YiUONUGXtRi1",
        "colab_type": "code",
        "colab": {
          "base_uri": "https://localhost:8080/",
          "height": 879
        },
        "outputId": "24bf9c4f-0ba2-4259-cb63-92ebd935c4f5"
      },
      "source": [
        "import matplotlib.pyplot as plt\n",
        "diabetes.hist(bins = 50, figsize=(20, 15))\n",
        "plt.show()"
      ],
      "execution_count": 31,
      "outputs": [
        {
          "output_type": "display_data",
          "data": {
            "image/png": "[encoded data removed]",
            "text/plain": [
              "<Figure size 1440x1080 with 9 Axes>"
            ]
          },
          "metadata": {
            "tags": [],
            "needs_background": "light"
          }
        }
      ]
    },
    {
      "cell_type": "markdown",
      "metadata": {
        "id": "OZh6Exz2tRi6",
        "colab_type": "text"
      },
      "source": [
        "### Escalado del dataset"
      ]
    },
    {
      "cell_type": "code",
      "metadata": {
        "id": "NvAfTS11tRi7",
        "colab_type": "code",
        "colab": {}
      },
      "source": [
        "Normalizar el dataset para su uso en ciertos algoritmos de Machine Learning se convierte en tarea imprescindible"
      ],
      "execution_count": null,
      "outputs": []
    },
    {
      "cell_type": "markdown",
      "metadata": {
        "id": "wCgXgkJWtRi-",
        "colab_type": "text"
      },
      "source": [
        "### Sexta pregunta (2 puntos) "
      ]
    },
    {
      "cell_type": "markdown",
      "metadata": {
        "id": "HGmQRP9EtRi_",
        "colab_type": "text"
      },
      "source": [
        "### a) Escale las caracteríticas del dataset que considere necesarias entre `0` y `1` para su posterior uso en una regresión logítica binaria. (1 puntos)"
      ]
    },
    {
      "cell_type": "markdown",
      "metadata": {
        "id": "qmN_zzWYtRjA",
        "colab_type": "text"
      },
      "source": [
        "#### Pista: para hacerlo rápidamente, puede definir una lista `cols_to_norm` con las columnas a normalizar e incluir la función a usar en el escalado e iterar en bucle:"
      ]
    },
    {
      "cell_type": "code",
      "metadata": {
        "id": "lvLaei_htRjA",
        "colab_type": "code",
        "colab": {}
      },
      "source": [
        "cols_to_norm = ['Num_pregnant', 'Gluc_concent', 'Blood_press', 'Triceps', 'Insulin', 'BMI', 'Age', 'Pedigree']"
      ],
      "execution_count": 32,
      "outputs": []
    },
    {
      "cell_type": "markdown",
      "metadata": {
        "id": "8feQUWw3tRjE",
        "colab_type": "raw"
      },
      "source": [
        "cols_to_norm = [ ... ]"
      ]
    },
    {
      "cell_type": "code",
      "metadata": {
        "id": "LZ2AjlDHtRjE",
        "colab_type": "code",
        "colab": {}
      },
      "source": [
        "for item in cols_to_norm:\n",
        "    diabetes[item]= (diabetes[item] - np.min(diabetes[item]))/(np.max(diabetes[item]) - np.min(diabetes[item]))"
      ],
      "execution_count": 33,
      "outputs": []
    },
    {
      "cell_type": "markdown",
      "metadata": {
        "id": "f16Rx8oGtRjI",
        "colab_type": "text"
      },
      "source": [
        "Ejecute de nuevo los siguientes comandos:"
      ]
    },
    {
      "cell_type": "code",
      "metadata": {
        "id": "Vn_EfokVtRjI",
        "colab_type": "code",
        "colab": {
          "base_uri": "https://localhost:8080/",
          "height": 359
        },
        "outputId": "7ec6c27a-d5ff-4758-dee1-e7a992cbfb54"
      },
      "source": [
        "diabetes.head(n=10)"
      ],
      "execution_count": 34,
      "outputs": [
        {
          "output_type": "execute_result",
          "data": {
            "text/html": [
              "<div>\n",
              "<style scoped>\n",
              "    .dataframe tbody tr th:only-of-type {\n",
              "        vertical-align: middle;\n",
              "    }\n",
              "\n",
              "    .dataframe tbody tr th {\n",
              "        vertical-align: top;\n",
              "    }\n",
              "\n",
              "    .dataframe thead th {\n",
              "        text-align: right;\n",
              "    }\n",
              "</style>\n",
              "<table border=\"1\" class=\"dataframe\">\n",
              "  <thead>\n",
              "    <tr style=\"text-align: right;\">\n",
              "      <th></th>\n",
              "      <th>Num_pregnant</th>\n",
              "      <th>Gluc_concent</th>\n",
              "      <th>Blood_press</th>\n",
              "      <th>Triceps</th>\n",
              "      <th>Insulin</th>\n",
              "      <th>BMI</th>\n",
              "      <th>Pedigree</th>\n",
              "      <th>Age</th>\n",
              "      <th>Diagnosis</th>\n",
              "    </tr>\n",
              "  </thead>\n",
              "  <tbody>\n",
              "    <tr>\n",
              "      <th>0</th>\n",
              "      <td>0.352941</td>\n",
              "      <td>0.670968</td>\n",
              "      <td>0.489796</td>\n",
              "      <td>0.304348</td>\n",
              "      <td>0.019832</td>\n",
              "      <td>0.314928</td>\n",
              "      <td>0.234415</td>\n",
              "      <td>0.483333</td>\n",
              "      <td>1</td>\n",
              "    </tr>\n",
              "    <tr>\n",
              "      <th>1</th>\n",
              "      <td>0.058824</td>\n",
              "      <td>0.264516</td>\n",
              "      <td>0.428571</td>\n",
              "      <td>0.239130</td>\n",
              "      <td>0.019832</td>\n",
              "      <td>0.171779</td>\n",
              "      <td>0.116567</td>\n",
              "      <td>0.166667</td>\n",
              "      <td>0</td>\n",
              "    </tr>\n",
              "    <tr>\n",
              "      <th>2</th>\n",
              "      <td>0.470588</td>\n",
              "      <td>0.896774</td>\n",
              "      <td>0.408163</td>\n",
              "      <td>0.173913</td>\n",
              "      <td>0.019832</td>\n",
              "      <td>0.104294</td>\n",
              "      <td>0.253629</td>\n",
              "      <td>0.183333</td>\n",
              "      <td>1</td>\n",
              "    </tr>\n",
              "    <tr>\n",
              "      <th>3</th>\n",
              "      <td>0.058824</td>\n",
              "      <td>0.290323</td>\n",
              "      <td>0.428571</td>\n",
              "      <td>0.173913</td>\n",
              "      <td>0.096154</td>\n",
              "      <td>0.202454</td>\n",
              "      <td>0.038002</td>\n",
              "      <td>0.000000</td>\n",
              "      <td>0</td>\n",
              "    </tr>\n",
              "    <tr>\n",
              "      <th>4</th>\n",
              "      <td>0.000000</td>\n",
              "      <td>0.600000</td>\n",
              "      <td>0.163265</td>\n",
              "      <td>0.304348</td>\n",
              "      <td>0.185096</td>\n",
              "      <td>0.509202</td>\n",
              "      <td>0.943638</td>\n",
              "      <td>0.200000</td>\n",
              "      <td>1</td>\n",
              "    </tr>\n",
              "    <tr>\n",
              "      <th>5</th>\n",
              "      <td>0.294118</td>\n",
              "      <td>0.464516</td>\n",
              "      <td>0.510204</td>\n",
              "      <td>0.173913</td>\n",
              "      <td>0.019832</td>\n",
              "      <td>0.151329</td>\n",
              "      <td>0.052519</td>\n",
              "      <td>0.150000</td>\n",
              "      <td>0</td>\n",
              "    </tr>\n",
              "    <tr>\n",
              "      <th>6</th>\n",
              "      <td>0.176471</td>\n",
              "      <td>0.219355</td>\n",
              "      <td>0.265306</td>\n",
              "      <td>0.271739</td>\n",
              "      <td>0.088942</td>\n",
              "      <td>0.261759</td>\n",
              "      <td>0.072588</td>\n",
              "      <td>0.083333</td>\n",
              "      <td>1</td>\n",
              "    </tr>\n",
              "    <tr>\n",
              "      <th>7</th>\n",
              "      <td>0.588235</td>\n",
              "      <td>0.458065</td>\n",
              "      <td>0.489796</td>\n",
              "      <td>0.173913</td>\n",
              "      <td>0.019832</td>\n",
              "      <td>0.349693</td>\n",
              "      <td>0.023911</td>\n",
              "      <td>0.133333</td>\n",
              "      <td>0</td>\n",
              "    </tr>\n",
              "    <tr>\n",
              "      <th>8</th>\n",
              "      <td>0.117647</td>\n",
              "      <td>0.987097</td>\n",
              "      <td>0.469388</td>\n",
              "      <td>0.413043</td>\n",
              "      <td>0.635817</td>\n",
              "      <td>0.251534</td>\n",
              "      <td>0.034159</td>\n",
              "      <td>0.533333</td>\n",
              "      <td>1</td>\n",
              "    </tr>\n",
              "    <tr>\n",
              "      <th>9</th>\n",
              "      <td>0.470588</td>\n",
              "      <td>0.522581</td>\n",
              "      <td>0.734694</td>\n",
              "      <td>0.173913</td>\n",
              "      <td>0.019832</td>\n",
              "      <td>0.282209</td>\n",
              "      <td>0.065756</td>\n",
              "      <td>0.550000</td>\n",
              "      <td>1</td>\n",
              "    </tr>\n",
              "  </tbody>\n",
              "</table>\n",
              "</div>"
            ],
            "text/plain": [
              "   Num_pregnant  Gluc_concent  Blood_press  ...  Pedigree       Age  Diagnosis\n",
              "0      0.352941      0.670968     0.489796  ...  0.234415  0.483333          1\n",
              "1      0.058824      0.264516     0.428571  ...  0.116567  0.166667          0\n",
              "2      0.470588      0.896774     0.408163  ...  0.253629  0.183333          1\n",
              "3      0.058824      0.290323     0.428571  ...  0.038002  0.000000          0\n",
              "4      0.000000      0.600000     0.163265  ...  0.943638  0.200000          1\n",
              "5      0.294118      0.464516     0.510204  ...  0.052519  0.150000          0\n",
              "6      0.176471      0.219355     0.265306  ...  0.072588  0.083333          1\n",
              "7      0.588235      0.458065     0.489796  ...  0.023911  0.133333          0\n",
              "8      0.117647      0.987097     0.469388  ...  0.034159  0.533333          1\n",
              "9      0.470588      0.522581     0.734694  ...  0.065756  0.550000          1\n",
              "\n",
              "[10 rows x 9 columns]"
            ]
          },
          "metadata": {
            "tags": []
          },
          "execution_count": 34
        }
      ]
    },
    {
      "cell_type": "code",
      "metadata": {
        "id": "nwB2AhjStRjM",
        "colab_type": "code",
        "colab": {
          "base_uri": "https://localhost:8080/",
          "height": 297
        },
        "outputId": "2be752fb-f179-434c-92ed-ac60da22c213"
      },
      "source": [
        "diabetes.describe()"
      ],
      "execution_count": 35,
      "outputs": [
        {
          "output_type": "execute_result",
          "data": {
            "text/html": [
              "<div>\n",
              "<style scoped>\n",
              "    .dataframe tbody tr th:only-of-type {\n",
              "        vertical-align: middle;\n",
              "    }\n",
              "\n",
              "    .dataframe tbody tr th {\n",
              "        vertical-align: top;\n",
              "    }\n",
              "\n",
              "    .dataframe thead th {\n",
              "        text-align: right;\n",
              "    }\n",
              "</style>\n",
              "<table border=\"1\" class=\"dataframe\">\n",
              "  <thead>\n",
              "    <tr style=\"text-align: right;\">\n",
              "      <th></th>\n",
              "      <th>Num_pregnant</th>\n",
              "      <th>Gluc_concent</th>\n",
              "      <th>Blood_press</th>\n",
              "      <th>Triceps</th>\n",
              "      <th>Insulin</th>\n",
              "      <th>BMI</th>\n",
              "      <th>Pedigree</th>\n",
              "      <th>Age</th>\n",
              "      <th>Diagnosis</th>\n",
              "    </tr>\n",
              "  </thead>\n",
              "  <tbody>\n",
              "    <tr>\n",
              "      <th>count</th>\n",
              "      <td>768.000000</td>\n",
              "      <td>768.000000</td>\n",
              "      <td>768.000000</td>\n",
              "      <td>768.000000</td>\n",
              "      <td>768.000000</td>\n",
              "      <td>768.000000</td>\n",
              "      <td>768.000000</td>\n",
              "      <td>768.000000</td>\n",
              "      <td>768.000000</td>\n",
              "    </tr>\n",
              "    <tr>\n",
              "      <th>mean</th>\n",
              "      <td>0.226180</td>\n",
              "      <td>0.501008</td>\n",
              "      <td>0.493742</td>\n",
              "      <td>0.221029</td>\n",
              "      <td>0.096938</td>\n",
              "      <td>0.291430</td>\n",
              "      <td>0.168179</td>\n",
              "      <td>0.204015</td>\n",
              "      <td>0.348958</td>\n",
              "    </tr>\n",
              "    <tr>\n",
              "      <th>std</th>\n",
              "      <td>0.198210</td>\n",
              "      <td>0.196376</td>\n",
              "      <td>0.123435</td>\n",
              "      <td>0.100315</td>\n",
              "      <td>0.126860</td>\n",
              "      <td>0.140601</td>\n",
              "      <td>0.141473</td>\n",
              "      <td>0.196004</td>\n",
              "      <td>0.476951</td>\n",
              "    </tr>\n",
              "    <tr>\n",
              "      <th>min</th>\n",
              "      <td>0.000000</td>\n",
              "      <td>0.000000</td>\n",
              "      <td>0.000000</td>\n",
              "      <td>0.000000</td>\n",
              "      <td>0.000000</td>\n",
              "      <td>0.000000</td>\n",
              "      <td>0.000000</td>\n",
              "      <td>0.000000</td>\n",
              "      <td>0.000000</td>\n",
              "    </tr>\n",
              "    <tr>\n",
              "      <th>25%</th>\n",
              "      <td>0.058824</td>\n",
              "      <td>0.359677</td>\n",
              "      <td>0.408163</td>\n",
              "      <td>0.173913</td>\n",
              "      <td>0.019832</td>\n",
              "      <td>0.190184</td>\n",
              "      <td>0.070773</td>\n",
              "      <td>0.050000</td>\n",
              "      <td>0.000000</td>\n",
              "    </tr>\n",
              "    <tr>\n",
              "      <th>50%</th>\n",
              "      <td>0.176471</td>\n",
              "      <td>0.470968</td>\n",
              "      <td>0.489796</td>\n",
              "      <td>0.173913</td>\n",
              "      <td>0.020733</td>\n",
              "      <td>0.282209</td>\n",
              "      <td>0.125747</td>\n",
              "      <td>0.133333</td>\n",
              "      <td>0.000000</td>\n",
              "    </tr>\n",
              "    <tr>\n",
              "      <th>75%</th>\n",
              "      <td>0.352941</td>\n",
              "      <td>0.620968</td>\n",
              "      <td>0.571429</td>\n",
              "      <td>0.271739</td>\n",
              "      <td>0.136118</td>\n",
              "      <td>0.376278</td>\n",
              "      <td>0.234095</td>\n",
              "      <td>0.333333</td>\n",
              "      <td>1.000000</td>\n",
              "    </tr>\n",
              "    <tr>\n",
              "      <th>max</th>\n",
              "      <td>1.000000</td>\n",
              "      <td>1.000000</td>\n",
              "      <td>1.000000</td>\n",
              "      <td>1.000000</td>\n",
              "      <td>1.000000</td>\n",
              "      <td>1.000000</td>\n",
              "      <td>1.000000</td>\n",
              "      <td>1.000000</td>\n",
              "      <td>1.000000</td>\n",
              "    </tr>\n",
              "  </tbody>\n",
              "</table>\n",
              "</div>"
            ],
            "text/plain": [
              "       Num_pregnant  Gluc_concent  ...         Age   Diagnosis\n",
              "count    768.000000    768.000000  ...  768.000000  768.000000\n",
              "mean       0.226180      0.501008  ...    0.204015    0.348958\n",
              "std        0.198210      0.196376  ...    0.196004    0.476951\n",
              "min        0.000000      0.000000  ...    0.000000    0.000000\n",
              "25%        0.058824      0.359677  ...    0.050000    0.000000\n",
              "50%        0.176471      0.470968  ...    0.133333    0.000000\n",
              "75%        0.352941      0.620968  ...    0.333333    1.000000\n",
              "max        1.000000      1.000000  ...    1.000000    1.000000\n",
              "\n",
              "[8 rows x 9 columns]"
            ]
          },
          "metadata": {
            "tags": []
          },
          "execution_count": 35
        }
      ]
    },
    {
      "cell_type": "markdown",
      "metadata": {
        "id": "ExWlBmoctRjR",
        "colab_type": "text"
      },
      "source": [
        "### b) ¿Qué destacaría en las dos tablas anteriores?¿Cómo han cambiado los intervalos en los que las características están distribuidas? (0,5 puntos)"
      ]
    },
    {
      "cell_type": "code",
      "metadata": {
        "id": "-quw6EAatRjR",
        "colab_type": "code",
        "colab": {}
      },
      "source": [
        "Ahora los intervalos de las variables se distribuyen entre 0 y 1 tras la normalización"
      ],
      "execution_count": null,
      "outputs": []
    },
    {
      "cell_type": "markdown",
      "metadata": {
        "id": "SmI6reSctRjU",
        "colab_type": "text"
      },
      "source": [
        "### c) ¿Qué otro tipo de normalización aplicaría a las características de nuestro dataset? Impleméntela debajo y justifique su elección. (0,5 puntos)"
      ]
    },
    {
      "cell_type": "code",
      "metadata": {
        "id": "CAzqiIlktRjV",
        "colab_type": "code",
        "colab": {}
      },
      "source": [
        "A las variables Pedrigree y Age se les podría normalizar con una distribución de pearson o Xi cuadrada"
      ],
      "execution_count": null,
      "outputs": []
    },
    {
      "cell_type": "markdown",
      "metadata": {
        "id": "PMma8-KhtRjY",
        "colab_type": "text"
      },
      "source": [
        "____\n",
        "### Matriz de correlación"
      ]
    },
    {
      "cell_type": "markdown",
      "metadata": {
        "id": "PBnSeBaNtRjY",
        "colab_type": "text"
      },
      "source": [
        "En `pandas`, es muy sencillo obtener la visualización de la matriz de correlación. **Ejecute el siguiente código:**"
      ]
    },
    {
      "cell_type": "code",
      "metadata": {
        "id": "PO8-UTZytRjZ",
        "colab_type": "code",
        "colab": {
          "base_uri": "https://localhost:8080/",
          "height": 328
        },
        "outputId": "39115073-e5d8-485c-9655-ae6298530c17"
      },
      "source": [
        "corr = diabetes.corr()\n",
        "corr"
      ],
      "execution_count": 36,
      "outputs": [
        {
          "output_type": "execute_result",
          "data": {
            "text/html": [
              "<div>\n",
              "<style scoped>\n",
              "    .dataframe tbody tr th:only-of-type {\n",
              "        vertical-align: middle;\n",
              "    }\n",
              "\n",
              "    .dataframe tbody tr th {\n",
              "        vertical-align: top;\n",
              "    }\n",
              "\n",
              "    .dataframe thead th {\n",
              "        text-align: right;\n",
              "    }\n",
              "</style>\n",
              "<table border=\"1\" class=\"dataframe\">\n",
              "  <thead>\n",
              "    <tr style=\"text-align: right;\">\n",
              "      <th></th>\n",
              "      <th>Num_pregnant</th>\n",
              "      <th>Gluc_concent</th>\n",
              "      <th>Blood_press</th>\n",
              "      <th>Triceps</th>\n",
              "      <th>Insulin</th>\n",
              "      <th>BMI</th>\n",
              "      <th>Pedigree</th>\n",
              "      <th>Age</th>\n",
              "      <th>Diagnosis</th>\n",
              "    </tr>\n",
              "  </thead>\n",
              "  <tbody>\n",
              "    <tr>\n",
              "      <th>Num_pregnant</th>\n",
              "      <td>1.000000</td>\n",
              "      <td>0.128213</td>\n",
              "      <td>0.208615</td>\n",
              "      <td>0.032568</td>\n",
              "      <td>-0.055697</td>\n",
              "      <td>0.021546</td>\n",
              "      <td>-0.033523</td>\n",
              "      <td>0.544341</td>\n",
              "      <td>0.221898</td>\n",
              "    </tr>\n",
              "    <tr>\n",
              "      <th>Gluc_concent</th>\n",
              "      <td>0.128213</td>\n",
              "      <td>1.000000</td>\n",
              "      <td>0.218937</td>\n",
              "      <td>0.172143</td>\n",
              "      <td>0.357573</td>\n",
              "      <td>0.231400</td>\n",
              "      <td>0.137327</td>\n",
              "      <td>0.266909</td>\n",
              "      <td>0.492782</td>\n",
              "    </tr>\n",
              "    <tr>\n",
              "      <th>Blood_press</th>\n",
              "      <td>0.208615</td>\n",
              "      <td>0.218937</td>\n",
              "      <td>1.000000</td>\n",
              "      <td>0.147809</td>\n",
              "      <td>-0.028721</td>\n",
              "      <td>0.281132</td>\n",
              "      <td>-0.002378</td>\n",
              "      <td>0.324915</td>\n",
              "      <td>0.165723</td>\n",
              "    </tr>\n",
              "    <tr>\n",
              "      <th>Triceps</th>\n",
              "      <td>0.032568</td>\n",
              "      <td>0.172143</td>\n",
              "      <td>0.147809</td>\n",
              "      <td>1.000000</td>\n",
              "      <td>0.238188</td>\n",
              "      <td>0.546951</td>\n",
              "      <td>0.142977</td>\n",
              "      <td>0.054514</td>\n",
              "      <td>0.189065</td>\n",
              "    </tr>\n",
              "    <tr>\n",
              "      <th>Insulin</th>\n",
              "      <td>-0.055697</td>\n",
              "      <td>0.357573</td>\n",
              "      <td>-0.028721</td>\n",
              "      <td>0.238188</td>\n",
              "      <td>1.000000</td>\n",
              "      <td>0.189022</td>\n",
              "      <td>0.178029</td>\n",
              "      <td>-0.015413</td>\n",
              "      <td>0.148457</td>\n",
              "    </tr>\n",
              "    <tr>\n",
              "      <th>BMI</th>\n",
              "      <td>0.021546</td>\n",
              "      <td>0.231400</td>\n",
              "      <td>0.281132</td>\n",
              "      <td>0.546951</td>\n",
              "      <td>0.189022</td>\n",
              "      <td>1.000000</td>\n",
              "      <td>0.153506</td>\n",
              "      <td>0.025744</td>\n",
              "      <td>0.312249</td>\n",
              "    </tr>\n",
              "    <tr>\n",
              "      <th>Pedigree</th>\n",
              "      <td>-0.033523</td>\n",
              "      <td>0.137327</td>\n",
              "      <td>-0.002378</td>\n",
              "      <td>0.142977</td>\n",
              "      <td>0.178029</td>\n",
              "      <td>0.153506</td>\n",
              "      <td>1.000000</td>\n",
              "      <td>0.033561</td>\n",
              "      <td>0.173844</td>\n",
              "    </tr>\n",
              "    <tr>\n",
              "      <th>Age</th>\n",
              "      <td>0.544341</td>\n",
              "      <td>0.266909</td>\n",
              "      <td>0.324915</td>\n",
              "      <td>0.054514</td>\n",
              "      <td>-0.015413</td>\n",
              "      <td>0.025744</td>\n",
              "      <td>0.033561</td>\n",
              "      <td>1.000000</td>\n",
              "      <td>0.238356</td>\n",
              "    </tr>\n",
              "    <tr>\n",
              "      <th>Diagnosis</th>\n",
              "      <td>0.221898</td>\n",
              "      <td>0.492782</td>\n",
              "      <td>0.165723</td>\n",
              "      <td>0.189065</td>\n",
              "      <td>0.148457</td>\n",
              "      <td>0.312249</td>\n",
              "      <td>0.173844</td>\n",
              "      <td>0.238356</td>\n",
              "      <td>1.000000</td>\n",
              "    </tr>\n",
              "  </tbody>\n",
              "</table>\n",
              "</div>"
            ],
            "text/plain": [
              "              Num_pregnant  Gluc_concent  ...       Age  Diagnosis\n",
              "Num_pregnant      1.000000      0.128213  ...  0.544341   0.221898\n",
              "Gluc_concent      0.128213      1.000000  ...  0.266909   0.492782\n",
              "Blood_press       0.208615      0.218937  ...  0.324915   0.165723\n",
              "Triceps           0.032568      0.172143  ...  0.054514   0.189065\n",
              "Insulin          -0.055697      0.357573  ... -0.015413   0.148457\n",
              "BMI               0.021546      0.231400  ...  0.025744   0.312249\n",
              "Pedigree         -0.033523      0.137327  ...  0.033561   0.173844\n",
              "Age               0.544341      0.266909  ...  1.000000   0.238356\n",
              "Diagnosis         0.221898      0.492782  ...  0.238356   1.000000\n",
              "\n",
              "[9 rows x 9 columns]"
            ]
          },
          "metadata": {
            "tags": []
          },
          "execution_count": 36
        }
      ]
    },
    {
      "cell_type": "markdown",
      "metadata": {
        "id": "Bci-miFRtRjb",
        "colab_type": "text"
      },
      "source": [
        "Haciendo uso de `seaborn` podremos hacernos una idea rápida de qué variables están más correlacionadas con la clase. Ejecute el siguiente código."
      ]
    },
    {
      "cell_type": "code",
      "metadata": {
        "scrolled": false,
        "id": "YpeP6nrWtRjb",
        "colab_type": "code",
        "colab": {
          "base_uri": "https://localhost:8080/",
          "height": 53
        },
        "outputId": "36b74037-a8e7-48b8-dbef-ac30720b979d"
      },
      "source": [
        "%matplotlib inline\n",
        "import seaborn as sns"
      ],
      "execution_count": 37,
      "outputs": [
        {
          "output_type": "stream",
          "text": [
            "/usr/local/lib/python3.6/dist-packages/statsmodels/tools/_testing.py:19: FutureWarning: pandas.util.testing is deprecated. Use the functions in the public API at pandas.testing instead.\n",
            "  import pandas.util.testing as tm\n"
          ],
          "name": "stderr"
        }
      ]
    },
    {
      "cell_type": "code",
      "metadata": {
        "id": "VCNQrPiytRjg",
        "colab_type": "code",
        "colab": {
          "base_uri": "https://localhost:8080/",
          "height": 351
        },
        "outputId": "0c329558-b017-47f4-95ba-57eff416a190"
      },
      "source": [
        "sns.heatmap(corr, annot = True)"
      ],
      "execution_count": 38,
      "outputs": [
        {
          "output_type": "execute_result",
          "data": {
            "text/plain": [
              "<matplotlib.axes._subplots.AxesSubplot at 0x7f64ec7a88d0>"
            ]
          },
          "metadata": {
            "tags": []
          },
          "execution_count": 38
        },
        {
          "output_type": "display_data",
          "data": {
            "image/png": "[encoded data removed]",
            "text/plain": [
              "<Figure size 432x288 with 2 Axes>"
            ]
          },
          "metadata": {
            "tags": [],
            "needs_background": "light"
          }
        }
      ]
    },
    {
      "cell_type": "markdown",
      "metadata": {
        "id": "N_EbvpBNtRjj",
        "colab_type": "text"
      },
      "source": [
        "### Séptima pregunta (1 punto)"
      ]
    },
    {
      "cell_type": "markdown",
      "metadata": {
        "id": "nS-GTFW3tRjm",
        "colab_type": "text"
      },
      "source": [
        "### Indique, de mayor a menor correlación, las variables que guardan una mayor correlación con la clase. ¿Tiene sentido que las tres primeras variables con mayor correlación se identifiquen con una mayor probabilidad de sufrir diabetes de tipo 2? Justifique su respuesta."
      ]
    },
    {
      "cell_type": "code",
      "metadata": {
        "id": "0zaubeCqtRjm",
        "colab_type": "code",
        "colab": {}
      },
      "source": [
        "La mayor correlación con la clase de diagnosis está en la variable Gluc_content con un 49%, después por BMI con un 31%, luego edad con un 24%. \n",
        "Sí, tiene sentido pues son las variables que mayor incidencia tienen en la patologìa. "
      ],
      "execution_count": null,
      "outputs": []
    },
    {
      "cell_type": "markdown",
      "metadata": {
        "id": "OiMjeiGKtRjo",
        "colab_type": "text"
      },
      "source": [
        "## Entrenando un modelo de Regresión Logística para el dataset"
      ]
    },
    {
      "cell_type": "markdown",
      "metadata": {
        "id": "5VLGUkKmtRjp",
        "colab_type": "text"
      },
      "source": [
        "Ahora podemos entrenar un modelo de clasificación. Usaremos un modelo simple de aprendizaje automático llamado Regresión Logística. \n",
        "Dado que el modelo está disponible en Scikit-sklearn, el proceso de capacitación es bastante sencillo y podemos hacerlo en pocas líneas de código. Primero, creamos una instancia llamada `diabetesCheck` y luego usamos la función de ajuste para entrenar el modelo."
      ]
    },
    {
      "cell_type": "markdown",
      "metadata": {
        "id": "v9iOVLNftRjp",
        "colab_type": "text"
      },
      "source": [
        "### Partición del dataset en train test y test set"
      ]
    },
    {
      "cell_type": "markdown",
      "metadata": {
        "id": "1VIjZSZ0tRjp",
        "colab_type": "text"
      },
      "source": [
        "Antes de comenzar el entrenamiento de nuestro modelo, necesitamos hacer una **partición de nuestro datos** entre aquellos que se van a usar para entrenar y aquellos que van a usarse para la validación de ese mismo entrenamiento. Esa partición suele ser aleatoria, y con `train_test_split` podremos hacer la partición fácilmente:"
      ]
    },
    {
      "cell_type": "markdown",
      "metadata": {
        "id": "UzToVelGtRjq",
        "colab_type": "text"
      },
      "source": [
        "<img src=\"images/train_val_test_set.png\" width=\"450\" height=\"400\" align=\"center\"/>"
      ]
    },
    {
      "cell_type": "markdown",
      "metadata": {
        "id": "JZ-UoSMftRjr",
        "colab_type": "text"
      },
      "source": [
        "Por favor, **ejecute las siguientes líneas de código**:"
      ]
    },
    {
      "cell_type": "code",
      "metadata": {
        "id": "Z7aTZqN7tRjr",
        "colab_type": "code",
        "colab": {}
      },
      "source": [
        "x_data = diabetes.drop('Diagnosis', axis=1)"
      ],
      "execution_count": 39,
      "outputs": []
    },
    {
      "cell_type": "code",
      "metadata": {
        "id": "2YuQ-d52tRju",
        "colab_type": "code",
        "colab": {
          "base_uri": "https://localhost:8080/",
          "height": 35
        },
        "outputId": "1cc2b8ba-e6a3-4b7f-ac61-5a8030d86a7d"
      },
      "source": [
        "x_data.shape"
      ],
      "execution_count": 40,
      "outputs": [
        {
          "output_type": "execute_result",
          "data": {
            "text/plain": [
              "(768, 8)"
            ]
          },
          "metadata": {
            "tags": []
          },
          "execution_count": 40
        }
      ]
    },
    {
      "cell_type": "code",
      "metadata": {
        "id": "eV_LAVjStRjy",
        "colab_type": "code",
        "colab": {}
      },
      "source": [
        "labels = diabetes['Diagnosis']"
      ],
      "execution_count": 41,
      "outputs": []
    },
    {
      "cell_type": "code",
      "metadata": {
        "id": "lqQDzv-rtRj1",
        "colab_type": "code",
        "colab": {
          "base_uri": "https://localhost:8080/",
          "height": 35
        },
        "outputId": "cb31b725-5d1b-4b74-d046-9a8529cfe975"
      },
      "source": [
        "labels.shape"
      ],
      "execution_count": 42,
      "outputs": [
        {
          "output_type": "execute_result",
          "data": {
            "text/plain": [
              "(768,)"
            ]
          },
          "metadata": {
            "tags": []
          },
          "execution_count": 42
        }
      ]
    },
    {
      "cell_type": "markdown",
      "metadata": {
        "id": "uZQmjGa8tRj4",
        "colab_type": "text"
      },
      "source": [
        "Con esto ya hemos aislado las características de las etiquetas desde el `pandas dataframe` en el que estábamos trabajando."
      ]
    },
    {
      "cell_type": "markdown",
      "metadata": {
        "id": "VJii083PtRj4",
        "colab_type": "text"
      },
      "source": [
        "Importamos `train_test_split` y hacemos la partición de nuestros datos"
      ]
    },
    {
      "cell_type": "code",
      "metadata": {
        "id": "3H7WWm1ltRj4",
        "colab_type": "code",
        "colab": {}
      },
      "source": [
        "from sklearn.model_selection import train_test_split"
      ],
      "execution_count": 43,
      "outputs": []
    },
    {
      "cell_type": "code",
      "metadata": {
        "id": "SKT2lVhZtRj7",
        "colab_type": "code",
        "colab": {}
      },
      "source": [
        "X_train, X_test, y_train, y_test = train_test_split(x_data, labels, test_size=0.33, random_state=101)"
      ],
      "execution_count": 44,
      "outputs": []
    },
    {
      "cell_type": "markdown",
      "metadata": {
        "id": "EsWW3FMdtRkC",
        "colab_type": "text"
      },
      "source": [
        "Importamos el constructor `LogisticRegression` para **comenzar con la regresión logística** y lanzamos el entrenamiento con `diabetesCheck.fit()` sobre el dataset de entrenamiento."
      ]
    },
    {
      "cell_type": "code",
      "metadata": {
        "id": "iwGlCSlytRkD",
        "colab_type": "code",
        "colab": {}
      },
      "source": [
        "from sklearn.linear_model import LogisticRegression"
      ],
      "execution_count": 45,
      "outputs": []
    },
    {
      "cell_type": "code",
      "metadata": {
        "id": "DKhoSbfItRkF",
        "colab_type": "code",
        "colab": {}
      },
      "source": [
        "diabetesCheck = LogisticRegression(solver='lbfgs')"
      ],
      "execution_count": 46,
      "outputs": []
    },
    {
      "cell_type": "code",
      "metadata": {
        "id": "GT8IxxkztRkH",
        "colab_type": "code",
        "colab": {
          "base_uri": "https://localhost:8080/",
          "height": 107
        },
        "outputId": "4d096ccf-85ae-4f4e-a3d3-c1c1fb4cabb1"
      },
      "source": [
        "diabetesCheck.fit(X_train, y_train)"
      ],
      "execution_count": 47,
      "outputs": [
        {
          "output_type": "execute_result",
          "data": {
            "text/plain": [
              "LogisticRegression(C=1.0, class_weight=None, dual=False, fit_intercept=True,\n",
              "                   intercept_scaling=1, l1_ratio=None, max_iter=100,\n",
              "                   multi_class='auto', n_jobs=None, penalty='l2',\n",
              "                   random_state=None, solver='lbfgs', tol=0.0001, verbose=0,\n",
              "                   warm_start=False)"
            ]
          },
          "metadata": {
            "tags": []
          },
          "execution_count": 47
        }
      ]
    },
    {
      "cell_type": "markdown",
      "metadata": {
        "id": "9DHOgbI7tRkL",
        "colab_type": "text"
      },
      "source": [
        "Para obtener la precisión de nuestro modelo, podemos atacar directamente a nuestro `test dataset` con `diabetesCheck.score()`."
      ]
    },
    {
      "cell_type": "code",
      "metadata": {
        "id": "7v6J2-FRtRkL",
        "colab_type": "code",
        "colab": {
          "base_uri": "https://localhost:8080/",
          "height": 35
        },
        "outputId": "77deed00-ca87-4ea8-ede2-a582f9660c71"
      },
      "source": [
        "accuracy = diabetesCheck.score(X_test, y_test)\n",
        "print(\"accuracy = \", accuracy * 100, \"%\")"
      ],
      "execution_count": 48,
      "outputs": [
        {
          "output_type": "stream",
          "text": [
            "accuracy =  76.37795275590551 %\n"
          ],
          "name": "stdout"
        }
      ]
    },
    {
      "cell_type": "markdown",
      "metadata": {
        "id": "r-u7vQjJtRkO",
        "colab_type": "text"
      },
      "source": [
        "Esta es la precisión de nuestro modelo tras habér realizado una Regresión Logística. "
      ]
    },
    {
      "cell_type": "markdown",
      "metadata": {
        "id": "3709jG0TtRkP",
        "colab_type": "text"
      },
      "source": [
        "### Octava pregunta (1 punto)"
      ]
    },
    {
      "cell_type": "markdown",
      "metadata": {
        "id": "7A6EBeKxtRkP",
        "colab_type": "text"
      },
      "source": [
        "### Este ajuste se ha realizado con los datos escalados entre $0$ y $1$.\n",
        "### a) Repita este ajuste con los datos no escalados (es decir, con el dataset original) (0,4 puntos)"
      ]
    },
    {
      "cell_type": "markdown",
      "metadata": {
        "id": "uQK4i6EftRkP",
        "colab_type": "raw"
      },
      "source": [
        "¡Necesitará cargar el dataset desde el fichero original!"
      ]
    },
    {
      "cell_type": "markdown",
      "metadata": {
        "id": "KLM-NICStRkQ",
        "colab_type": "raw"
      },
      "source": [
        ""
      ]
    },
    {
      "cell_type": "markdown",
      "metadata": {
        "id": "D4yrZPBktRkR",
        "colab_type": "text"
      },
      "source": [
        "### b) Repita este ajuste con los datos normalizados con $\\mu = 0$ y $\\sigma = 1$. (0,3 puntos)"
      ]
    },
    {
      "cell_type": "markdown",
      "metadata": {
        "id": "DG3zPkXCtRkR",
        "colab_type": "raw"
      },
      "source": [
        "¡Necesitará cargar el dataset desde el fichero original!"
      ]
    },
    {
      "cell_type": "code",
      "metadata": {
        "id": "zGCKESiktRkS",
        "colab_type": "code",
        "colab": {}
      },
      "source": [
        ""
      ],
      "execution_count": null,
      "outputs": []
    },
    {
      "cell_type": "markdown",
      "metadata": {
        "id": "O1Pxy-8_tRkV",
        "colab_type": "text"
      },
      "source": [
        "### c) ¿Observa una mejora sustancial en alguno de los casos o un empeoramiento? Justifique su respuesta. (0,3 puntos)"
      ]
    },
    {
      "cell_type": "code",
      "metadata": {
        "id": "6qXPXpALtRkV",
        "colab_type": "code",
        "colab": {}
      },
      "source": [
        ""
      ],
      "execution_count": null,
      "outputs": []
    },
    {
      "cell_type": "code",
      "metadata": {
        "id": "lkrMfslotRkX",
        "colab_type": "code",
        "colab": {}
      },
      "source": [
        ""
      ],
      "execution_count": null,
      "outputs": []
    },
    {
      "cell_type": "markdown",
      "metadata": {
        "id": "TxkESPkDtRkZ",
        "colab_type": "text"
      },
      "source": [
        "<img src=\"images/dalek_reminder.jpg\" width=\"550\" height=\"500\" align=\"center\"/>"
      ]
    },
    {
      "cell_type": "markdown",
      "metadata": {
        "id": "yIGhIhOHtRkZ",
        "colab_type": "raw"
      },
      "source": [
        "¡Por favor, no olvide guardar el Jupyter Notebook antes de mandar la práctica!"
      ]
    },
    {
      "cell_type": "code",
      "metadata": {
        "id": "NM5J-RjItRka",
        "colab_type": "code",
        "colab": {}
      },
      "source": [
        ""
      ],
      "execution_count": null,
      "outputs": []
    }
  ]
}